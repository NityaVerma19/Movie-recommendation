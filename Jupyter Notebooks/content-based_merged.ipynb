{
 "cells": [
  {
   "cell_type": "code",
   "execution_count": 1,
   "id": "cc00073d",
   "metadata": {
    "_cell_guid": "b1076dfc-b9ad-4769-8c92-a6c4dae69d19",
    "_uuid": "8f2839f25d086af736a60e9eeb907d3b93b6e0e5",
    "execution": {
     "iopub.execute_input": "2024-04-13T05:03:10.333547Z",
     "iopub.status.busy": "2024-04-13T05:03:10.333155Z",
     "iopub.status.idle": "2024-04-13T05:03:11.265851Z",
     "shell.execute_reply": "2024-04-13T05:03:11.264457Z"
    },
    "papermill": {
     "duration": 0.946523,
     "end_time": "2024-04-13T05:03:11.268417",
     "exception": false,
     "start_time": "2024-04-13T05:03:10.321894",
     "status": "completed"
    },
    "tags": []
   },
   "outputs": [
    {
     "name": "stdout",
     "output_type": "stream",
     "text": [
      "/kaggle/input/netflix-prize-data/combined_data_3.txt\n",
      "/kaggle/input/netflix-prize-data/movie_titles.csv\n",
      "/kaggle/input/netflix-prize-data/combined_data_4.txt\n",
      "/kaggle/input/netflix-prize-data/combined_data_1.txt\n",
      "/kaggle/input/netflix-prize-data/README\n",
      "/kaggle/input/netflix-prize-data/probe.txt\n",
      "/kaggle/input/netflix-prize-data/combined_data_2.txt\n",
      "/kaggle/input/netflix-prize-data/qualifying.txt\n",
      "/kaggle/input/movie-title/movie_title.csv\n",
      "/kaggle/input/final-data/final_data (3).csv\n",
      "/kaggle/input/user-movie/user_movie.npz\n",
      "/kaggle/input/merged/merged_data.csv\n"
     ]
    }
   ],
   "source": [
    "# This Python 3 environment comes with many helpful analytics libraries installed\n",
    "# It is defined by the kaggle/python Docker image: https://github.com/kaggle/docker-python\n",
    "# For example, here's several helpful packages to load\n",
    "\n",
    "import numpy as np # linear algebra\n",
    "import pandas as pd # data processing, CSV file I/O (e.g. pd.read_csv)\n",
    "\n",
    "# Input data files are available in the read-only \"../input/\" directory\n",
    "# For example, running this (by clicking run or pressing Shift+Enter) will list all files under the input directory\n",
    "\n",
    "import os\n",
    "for dirname, _, filenames in os.walk('/kaggle/input'):\n",
    "    for filename in filenames:\n",
    "        print(os.path.join(dirname, filename))\n",
    "    \n",
    "\n",
    "# You can write up to 20GB to the current directory (/kaggle/working/) that gets preserved as output when you create a version using \"Save & Run All\" \n",
    "# You can also write temporary files to /kaggle/temp/, but they won't be saved outside of the current session"
   ]
  },
  {
   "cell_type": "code",
   "execution_count": 2,
   "id": "6e18883f",
   "metadata": {
    "execution": {
     "iopub.execute_input": "2024-04-13T05:03:11.288612Z",
     "iopub.status.busy": "2024-04-13T05:03:11.288095Z",
     "iopub.status.idle": "2024-04-13T05:03:11.315378Z",
     "shell.execute_reply": "2024-04-13T05:03:11.314445Z"
    },
    "papermill": {
     "duration": 0.040245,
     "end_time": "2024-04-13T05:03:11.317876",
     "exception": false,
     "start_time": "2024-04-13T05:03:11.277631",
     "status": "completed"
    },
    "tags": []
   },
   "outputs": [],
   "source": [
    "df = pd.read_csv(\"/kaggle/input/merged/merged_data.csv\")"
   ]
  },
  {
   "cell_type": "code",
   "execution_count": 3,
   "id": "ec08d04a",
   "metadata": {
    "execution": {
     "iopub.execute_input": "2024-04-13T05:03:11.338626Z",
     "iopub.status.busy": "2024-04-13T05:03:11.337864Z",
     "iopub.status.idle": "2024-04-13T05:03:11.356474Z",
     "shell.execute_reply": "2024-04-13T05:03:11.355263Z"
    },
    "papermill": {
     "duration": 0.03191,
     "end_time": "2024-04-13T05:03:11.359117",
     "exception": false,
     "start_time": "2024-04-13T05:03:11.327207",
     "status": "completed"
    },
    "tags": []
   },
   "outputs": [
    {
     "data": {
      "text/html": [
       "<div>\n",
       "<style scoped>\n",
       "    .dataframe tbody tr th:only-of-type {\n",
       "        vertical-align: middle;\n",
       "    }\n",
       "\n",
       "    .dataframe tbody tr th {\n",
       "        vertical-align: top;\n",
       "    }\n",
       "\n",
       "    .dataframe thead th {\n",
       "        text-align: right;\n",
       "    }\n",
       "</style>\n",
       "<table border=\"1\" class=\"dataframe\">\n",
       "  <thead>\n",
       "    <tr style=\"text-align: right;\">\n",
       "      <th></th>\n",
       "      <th>title</th>\n",
       "      <th>director</th>\n",
       "      <th>cast</th>\n",
       "      <th>listed_in</th>\n",
       "      <th>description</th>\n",
       "      <th>MovieID</th>\n",
       "    </tr>\n",
       "  </thead>\n",
       "  <tbody>\n",
       "    <tr>\n",
       "      <th>0</th>\n",
       "      <td>midnight mass</td>\n",
       "      <td>Mike Flanagan</td>\n",
       "      <td>Kate Siegel, Zach Gilford, Hamish Linklater, H...</td>\n",
       "      <td>TV Dramas, TV Horror, TV Mysteries</td>\n",
       "      <td>The arrival of a charismatic young priest brin...</td>\n",
       "      <td>3844</td>\n",
       "    </tr>\n",
       "    <tr>\n",
       "      <th>1</th>\n",
       "      <td>jeans</td>\n",
       "      <td>S. Shankar</td>\n",
       "      <td>Prashanth, Aishwarya Rai Bachchan, Sri Lakshmi...</td>\n",
       "      <td>Comedies, International Movies, Romantic Movies</td>\n",
       "      <td>When the father of the man she loves insists t...</td>\n",
       "      <td>372</td>\n",
       "    </tr>\n",
       "    <tr>\n",
       "      <th>2</th>\n",
       "      <td>grown ups</td>\n",
       "      <td>Dennis Dugan</td>\n",
       "      <td>Adam Sandler, Kevin James, Chris Rock, David S...</td>\n",
       "      <td>Comedies</td>\n",
       "      <td>Mourning the loss of their beloved junior high...</td>\n",
       "      <td>8813</td>\n",
       "    </tr>\n",
       "    <tr>\n",
       "      <th>3</th>\n",
       "      <td>jaws</td>\n",
       "      <td>Steven Spielberg</td>\n",
       "      <td>Roy Scheider, Robert Shaw, Richard Dreyfuss, L...</td>\n",
       "      <td>Action &amp; Adventure, Classic Movies, Dramas</td>\n",
       "      <td>When an insatiable great white shark terrorize...</td>\n",
       "      <td>798</td>\n",
       "    </tr>\n",
       "    <tr>\n",
       "      <th>4</th>\n",
       "      <td>jaws 2</td>\n",
       "      <td>Jeannot Szwarc</td>\n",
       "      <td>Roy Scheider, Lorraine Gary, Murray Hamilton, ...</td>\n",
       "      <td>Dramas, Horror Movies, Thrillers</td>\n",
       "      <td>Four years after the last deadly shark attacks...</td>\n",
       "      <td>11171</td>\n",
       "    </tr>\n",
       "  </tbody>\n",
       "</table>\n",
       "</div>"
      ],
      "text/plain": [
       "           title          director  \\\n",
       "0  midnight mass     Mike Flanagan   \n",
       "1          jeans        S. Shankar   \n",
       "2      grown ups      Dennis Dugan   \n",
       "3           jaws  Steven Spielberg   \n",
       "4         jaws 2    Jeannot Szwarc   \n",
       "\n",
       "                                                cast  \\\n",
       "0  Kate Siegel, Zach Gilford, Hamish Linklater, H...   \n",
       "1  Prashanth, Aishwarya Rai Bachchan, Sri Lakshmi...   \n",
       "2  Adam Sandler, Kevin James, Chris Rock, David S...   \n",
       "3  Roy Scheider, Robert Shaw, Richard Dreyfuss, L...   \n",
       "4  Roy Scheider, Lorraine Gary, Murray Hamilton, ...   \n",
       "\n",
       "                                         listed_in  \\\n",
       "0               TV Dramas, TV Horror, TV Mysteries   \n",
       "1  Comedies, International Movies, Romantic Movies   \n",
       "2                                         Comedies   \n",
       "3       Action & Adventure, Classic Movies, Dramas   \n",
       "4                 Dramas, Horror Movies, Thrillers   \n",
       "\n",
       "                                         description  MovieID  \n",
       "0  The arrival of a charismatic young priest brin...     3844  \n",
       "1  When the father of the man she loves insists t...      372  \n",
       "2  Mourning the loss of their beloved junior high...     8813  \n",
       "3  When an insatiable great white shark terrorize...      798  \n",
       "4  Four years after the last deadly shark attacks...    11171  "
      ]
     },
     "execution_count": 3,
     "metadata": {},
     "output_type": "execute_result"
    }
   ],
   "source": [
    "df.head()"
   ]
  },
  {
   "cell_type": "code",
   "execution_count": 4,
   "id": "ebded2c1",
   "metadata": {
    "execution": {
     "iopub.execute_input": "2024-04-13T05:03:11.379954Z",
     "iopub.status.busy": "2024-04-13T05:03:11.379588Z",
     "iopub.status.idle": "2024-04-13T05:03:11.386282Z",
     "shell.execute_reply": "2024-04-13T05:03:11.385228Z"
    },
    "papermill": {
     "duration": 0.020135,
     "end_time": "2024-04-13T05:03:11.389038",
     "exception": false,
     "start_time": "2024-04-13T05:03:11.368903",
     "status": "completed"
    },
    "tags": []
   },
   "outputs": [
    {
     "data": {
      "text/plain": [
       "(753, 6)"
      ]
     },
     "execution_count": 4,
     "metadata": {},
     "output_type": "execute_result"
    }
   ],
   "source": [
    "df.shape"
   ]
  },
  {
   "cell_type": "code",
   "execution_count": 5,
   "id": "4f8b0779",
   "metadata": {
    "execution": {
     "iopub.execute_input": "2024-04-13T05:03:11.409835Z",
     "iopub.status.busy": "2024-04-13T05:03:11.409418Z",
     "iopub.status.idle": "2024-04-13T05:03:11.421294Z",
     "shell.execute_reply": "2024-04-13T05:03:11.420195Z"
    },
    "papermill": {
     "duration": 0.024861,
     "end_time": "2024-04-13T05:03:11.423525",
     "exception": false,
     "start_time": "2024-04-13T05:03:11.398664",
     "status": "completed"
    },
    "tags": []
   },
   "outputs": [
    {
     "data": {
      "text/plain": [
       "title            0\n",
       "director       127\n",
       "cast            21\n",
       "listed_in        0\n",
       "description      0\n",
       "MovieID          0\n",
       "dtype: int64"
      ]
     },
     "execution_count": 5,
     "metadata": {},
     "output_type": "execute_result"
    }
   ],
   "source": [
    "df.isnull().sum()"
   ]
  },
  {
   "cell_type": "markdown",
   "id": "e2a4ee32",
   "metadata": {
    "papermill": {
     "duration": 0.009624,
     "end_time": "2024-04-13T05:03:11.443151",
     "exception": false,
     "start_time": "2024-04-13T05:03:11.433527",
     "status": "completed"
    },
    "tags": []
   },
   "source": [
    "# *CONTENT BASED*"
   ]
  },
  {
   "cell_type": "markdown",
   "id": "c81446b8",
   "metadata": {
    "papermill": {
     "duration": 0.010448,
     "end_time": "2024-04-13T05:03:11.464058",
     "exception": false,
     "start_time": "2024-04-13T05:03:11.453610",
     "status": "completed"
    },
    "tags": []
   },
   "source": [
    "## MERGED DATA"
   ]
  },
  {
   "cell_type": "code",
   "execution_count": 6,
   "id": "fd0e65a0",
   "metadata": {
    "execution": {
     "iopub.execute_input": "2024-04-13T05:03:11.486151Z",
     "iopub.status.busy": "2024-04-13T05:03:11.485485Z",
     "iopub.status.idle": "2024-04-13T05:03:11.491404Z",
     "shell.execute_reply": "2024-04-13T05:03:11.490539Z"
    },
    "papermill": {
     "duration": 0.019713,
     "end_time": "2024-04-13T05:03:11.493760",
     "exception": false,
     "start_time": "2024-04-13T05:03:11.474047",
     "status": "completed"
    },
    "tags": []
   },
   "outputs": [
    {
     "data": {
      "text/plain": [
       "(753, 6)"
      ]
     },
     "execution_count": 6,
     "metadata": {},
     "output_type": "execute_result"
    }
   ],
   "source": [
    "df.shape"
   ]
  },
  {
   "cell_type": "code",
   "execution_count": 7,
   "id": "c4011e4d",
   "metadata": {
    "execution": {
     "iopub.execute_input": "2024-04-13T05:03:11.516073Z",
     "iopub.status.busy": "2024-04-13T05:03:11.515413Z",
     "iopub.status.idle": "2024-04-13T05:03:11.529519Z",
     "shell.execute_reply": "2024-04-13T05:03:11.528287Z"
    },
    "papermill": {
     "duration": 0.028559,
     "end_time": "2024-04-13T05:03:11.532290",
     "exception": false,
     "start_time": "2024-04-13T05:03:11.503731",
     "status": "completed"
    },
    "tags": []
   },
   "outputs": [],
   "source": [
    "#replacing nan values to an empty string as replace doesn't work on float values and \"NaN\" is a float value\n",
    "df['cast'] = df['cast'].apply(lambda x: '' if pd.isna(x) else x.replace(\" \", \"\"))\n",
    "df['listed_in'] = df['listed_in'].apply(lambda x: '' if pd.isna(x) else x.replace(\" \", \"\"))\n",
    "df['director'] = df['director'].apply(lambda x: '' if pd.isna(x) else x.replace(\" \", \"\"))"
   ]
  },
  {
   "cell_type": "code",
   "execution_count": 8,
   "id": "6375704b",
   "metadata": {
    "execution": {
     "iopub.execute_input": "2024-04-13T05:03:11.554167Z",
     "iopub.status.busy": "2024-04-13T05:03:11.553782Z",
     "iopub.status.idle": "2024-04-13T05:03:11.560979Z",
     "shell.execute_reply": "2024-04-13T05:03:11.559887Z"
    },
    "papermill": {
     "duration": 0.020763,
     "end_time": "2024-04-13T05:03:11.563396",
     "exception": false,
     "start_time": "2024-04-13T05:03:11.542633",
     "status": "completed"
    },
    "tags": []
   },
   "outputs": [],
   "source": [
    "#removing space\n",
    "df['listed_in'] = df['listed_in'].apply(lambda x: x.replace(\" \",\"\"))\n",
    "df['cast'] = df['cast'].apply(lambda x: x.replace(\" \",\"\"))"
   ]
  },
  {
   "cell_type": "code",
   "execution_count": 9,
   "id": "1eb1decb",
   "metadata": {
    "execution": {
     "iopub.execute_input": "2024-04-13T05:03:11.584705Z",
     "iopub.status.busy": "2024-04-13T05:03:11.584291Z",
     "iopub.status.idle": "2024-04-13T05:03:11.593563Z",
     "shell.execute_reply": "2024-04-13T05:03:11.592444Z"
    },
    "papermill": {
     "duration": 0.022712,
     "end_time": "2024-04-13T05:03:11.596018",
     "exception": false,
     "start_time": "2024-04-13T05:03:11.573306",
     "status": "completed"
    },
    "tags": []
   },
   "outputs": [],
   "source": [
    "#making tags\n",
    "df['tags'] = df['director']+ \" \" + df['cast']  + \" \" +  df['description']  +  \" \" + df['listed_in']"
   ]
  },
  {
   "cell_type": "code",
   "execution_count": 10,
   "id": "1f6f9319",
   "metadata": {
    "execution": {
     "iopub.execute_input": "2024-04-13T05:03:11.618095Z",
     "iopub.status.busy": "2024-04-13T05:03:11.617707Z",
     "iopub.status.idle": "2024-04-13T05:03:11.638879Z",
     "shell.execute_reply": "2024-04-13T05:03:11.638107Z"
    },
    "papermill": {
     "duration": 0.035139,
     "end_time": "2024-04-13T05:03:11.641147",
     "exception": false,
     "start_time": "2024-04-13T05:03:11.606008",
     "status": "completed"
    },
    "tags": []
   },
   "outputs": [
    {
     "data": {
      "text/html": [
       "<div>\n",
       "<style scoped>\n",
       "    .dataframe tbody tr th:only-of-type {\n",
       "        vertical-align: middle;\n",
       "    }\n",
       "\n",
       "    .dataframe tbody tr th {\n",
       "        vertical-align: top;\n",
       "    }\n",
       "\n",
       "    .dataframe thead th {\n",
       "        text-align: right;\n",
       "    }\n",
       "</style>\n",
       "<table border=\"1\" class=\"dataframe\">\n",
       "  <thead>\n",
       "    <tr style=\"text-align: right;\">\n",
       "      <th></th>\n",
       "      <th>title</th>\n",
       "      <th>director</th>\n",
       "      <th>cast</th>\n",
       "      <th>listed_in</th>\n",
       "      <th>description</th>\n",
       "      <th>MovieID</th>\n",
       "      <th>tags</th>\n",
       "    </tr>\n",
       "  </thead>\n",
       "  <tbody>\n",
       "    <tr>\n",
       "      <th>0</th>\n",
       "      <td>midnight mass</td>\n",
       "      <td>MikeFlanagan</td>\n",
       "      <td>KateSiegel,ZachGilford,HamishLinklater,HenryTh...</td>\n",
       "      <td>TVDramas,TVHorror,TVMysteries</td>\n",
       "      <td>The arrival of a charismatic young priest brin...</td>\n",
       "      <td>3844</td>\n",
       "      <td>MikeFlanagan KateSiegel,ZachGilford,HamishLink...</td>\n",
       "    </tr>\n",
       "    <tr>\n",
       "      <th>1</th>\n",
       "      <td>jeans</td>\n",
       "      <td>S.Shankar</td>\n",
       "      <td>Prashanth,AishwaryaRaiBachchan,SriLakshmi,Nassar</td>\n",
       "      <td>Comedies,InternationalMovies,RomanticMovies</td>\n",
       "      <td>When the father of the man she loves insists t...</td>\n",
       "      <td>372</td>\n",
       "      <td>S.Shankar Prashanth,AishwaryaRaiBachchan,SriLa...</td>\n",
       "    </tr>\n",
       "    <tr>\n",
       "      <th>2</th>\n",
       "      <td>grown ups</td>\n",
       "      <td>DennisDugan</td>\n",
       "      <td>AdamSandler,KevinJames,ChrisRock,DavidSpade,Ro...</td>\n",
       "      <td>Comedies</td>\n",
       "      <td>Mourning the loss of their beloved junior high...</td>\n",
       "      <td>8813</td>\n",
       "      <td>DennisDugan AdamSandler,KevinJames,ChrisRock,D...</td>\n",
       "    </tr>\n",
       "    <tr>\n",
       "      <th>3</th>\n",
       "      <td>jaws</td>\n",
       "      <td>StevenSpielberg</td>\n",
       "      <td>RoyScheider,RobertShaw,RichardDreyfuss,Lorrain...</td>\n",
       "      <td>Action&amp;Adventure,ClassicMovies,Dramas</td>\n",
       "      <td>When an insatiable great white shark terrorize...</td>\n",
       "      <td>798</td>\n",
       "      <td>StevenSpielberg RoyScheider,RobertShaw,Richard...</td>\n",
       "    </tr>\n",
       "    <tr>\n",
       "      <th>4</th>\n",
       "      <td>jaws 2</td>\n",
       "      <td>JeannotSzwarc</td>\n",
       "      <td>RoyScheider,LorraineGary,MurrayHamilton,Joseph...</td>\n",
       "      <td>Dramas,HorrorMovies,Thrillers</td>\n",
       "      <td>Four years after the last deadly shark attacks...</td>\n",
       "      <td>11171</td>\n",
       "      <td>JeannotSzwarc RoyScheider,LorraineGary,MurrayH...</td>\n",
       "    </tr>\n",
       "    <tr>\n",
       "      <th>...</th>\n",
       "      <td>...</td>\n",
       "      <td>...</td>\n",
       "      <td>...</td>\n",
       "      <td>...</td>\n",
       "      <td>...</td>\n",
       "      <td>...</td>\n",
       "      <td>...</td>\n",
       "    </tr>\n",
       "    <tr>\n",
       "      <th>748</th>\n",
       "      <td>who's that knocking at my door?</td>\n",
       "      <td>MartinScorsese</td>\n",
       "      <td>ZinaBethune,HarveyKeitel,AnneCollette,LennardK...</td>\n",
       "      <td>ClassicMovies,Dramas,IndependentMovies</td>\n",
       "      <td>A woman's revelation that she was once raped s...</td>\n",
       "      <td>12744</td>\n",
       "      <td>MartinScorsese ZinaBethune,HarveyKeitel,AnneCo...</td>\n",
       "    </tr>\n",
       "    <tr>\n",
       "      <th>749</th>\n",
       "      <td>wild wild west</td>\n",
       "      <td>BarrySonnenfeld</td>\n",
       "      <td>WillSmith,KevinKline,KennethBranagh,SalmaHayek...</td>\n",
       "      <td>Action&amp;Adventure,Comedies,Sci-Fi&amp;Fantasy</td>\n",
       "      <td>Armed with an ingenious arsenal, two top-notch...</td>\n",
       "      <td>4670</td>\n",
       "      <td>BarrySonnenfeld WillSmith,KevinKline,KennethBr...</td>\n",
       "    </tr>\n",
       "    <tr>\n",
       "      <th>750</th>\n",
       "      <td>willy wonka &amp; the chocolate factory</td>\n",
       "      <td>MelStuart</td>\n",
       "      <td>GeneWilder,JackAlbertson,PeterOstrum,RoyKinnea...</td>\n",
       "      <td>Children&amp;FamilyMovies,ClassicMovies,Comedies</td>\n",
       "      <td>Zany Willy Wonka causes a stir when he announc...</td>\n",
       "      <td>14050</td>\n",
       "      <td>MelStuart GeneWilder,JackAlbertson,PeterOstrum...</td>\n",
       "    </tr>\n",
       "    <tr>\n",
       "      <th>751</th>\n",
       "      <td>xxx: state of the union</td>\n",
       "      <td>LeeTamahori</td>\n",
       "      <td>IceCube,SamuelL.Jackson,WillemDafoe,ScottSpeed...</td>\n",
       "      <td>Action&amp;Adventure</td>\n",
       "      <td>In this action-packed follow-up to XXX, U.S. i...</td>\n",
       "      <td>5730</td>\n",
       "      <td>LeeTamahori IceCube,SamuelL.Jackson,WillemDafo...</td>\n",
       "    </tr>\n",
       "    <tr>\n",
       "      <th>752</th>\n",
       "      <td>yaadein</td>\n",
       "      <td>SubhashGhai</td>\n",
       "      <td>JackieShroff,HrithikRoshan,KareenaKapoor,Amris...</td>\n",
       "      <td>Dramas,InternationalMovies,RomanticMovies</td>\n",
       "      <td>Two young lovers set out to overcome the obsta...</td>\n",
       "      <td>5439</td>\n",
       "      <td>SubhashGhai JackieShroff,HrithikRoshan,Kareena...</td>\n",
       "    </tr>\n",
       "  </tbody>\n",
       "</table>\n",
       "<p>753 rows × 7 columns</p>\n",
       "</div>"
      ],
      "text/plain": [
       "                                   title         director  \\\n",
       "0                          midnight mass     MikeFlanagan   \n",
       "1                                  jeans        S.Shankar   \n",
       "2                              grown ups      DennisDugan   \n",
       "3                                   jaws  StevenSpielberg   \n",
       "4                                 jaws 2    JeannotSzwarc   \n",
       "..                                   ...              ...   \n",
       "748      who's that knocking at my door?   MartinScorsese   \n",
       "749                       wild wild west  BarrySonnenfeld   \n",
       "750  willy wonka & the chocolate factory        MelStuart   \n",
       "751              xxx: state of the union      LeeTamahori   \n",
       "752                              yaadein      SubhashGhai   \n",
       "\n",
       "                                                  cast  \\\n",
       "0    KateSiegel,ZachGilford,HamishLinklater,HenryTh...   \n",
       "1     Prashanth,AishwaryaRaiBachchan,SriLakshmi,Nassar   \n",
       "2    AdamSandler,KevinJames,ChrisRock,DavidSpade,Ro...   \n",
       "3    RoyScheider,RobertShaw,RichardDreyfuss,Lorrain...   \n",
       "4    RoyScheider,LorraineGary,MurrayHamilton,Joseph...   \n",
       "..                                                 ...   \n",
       "748  ZinaBethune,HarveyKeitel,AnneCollette,LennardK...   \n",
       "749  WillSmith,KevinKline,KennethBranagh,SalmaHayek...   \n",
       "750  GeneWilder,JackAlbertson,PeterOstrum,RoyKinnea...   \n",
       "751  IceCube,SamuelL.Jackson,WillemDafoe,ScottSpeed...   \n",
       "752  JackieShroff,HrithikRoshan,KareenaKapoor,Amris...   \n",
       "\n",
       "                                        listed_in  \\\n",
       "0                   TVDramas,TVHorror,TVMysteries   \n",
       "1     Comedies,InternationalMovies,RomanticMovies   \n",
       "2                                        Comedies   \n",
       "3           Action&Adventure,ClassicMovies,Dramas   \n",
       "4                   Dramas,HorrorMovies,Thrillers   \n",
       "..                                            ...   \n",
       "748        ClassicMovies,Dramas,IndependentMovies   \n",
       "749      Action&Adventure,Comedies,Sci-Fi&Fantasy   \n",
       "750  Children&FamilyMovies,ClassicMovies,Comedies   \n",
       "751                              Action&Adventure   \n",
       "752     Dramas,InternationalMovies,RomanticMovies   \n",
       "\n",
       "                                           description  MovieID  \\\n",
       "0    The arrival of a charismatic young priest brin...     3844   \n",
       "1    When the father of the man she loves insists t...      372   \n",
       "2    Mourning the loss of their beloved junior high...     8813   \n",
       "3    When an insatiable great white shark terrorize...      798   \n",
       "4    Four years after the last deadly shark attacks...    11171   \n",
       "..                                                 ...      ...   \n",
       "748  A woman's revelation that she was once raped s...    12744   \n",
       "749  Armed with an ingenious arsenal, two top-notch...     4670   \n",
       "750  Zany Willy Wonka causes a stir when he announc...    14050   \n",
       "751  In this action-packed follow-up to XXX, U.S. i...     5730   \n",
       "752  Two young lovers set out to overcome the obsta...     5439   \n",
       "\n",
       "                                                  tags  \n",
       "0    MikeFlanagan KateSiegel,ZachGilford,HamishLink...  \n",
       "1    S.Shankar Prashanth,AishwaryaRaiBachchan,SriLa...  \n",
       "2    DennisDugan AdamSandler,KevinJames,ChrisRock,D...  \n",
       "3    StevenSpielberg RoyScheider,RobertShaw,Richard...  \n",
       "4    JeannotSzwarc RoyScheider,LorraineGary,MurrayH...  \n",
       "..                                                 ...  \n",
       "748  MartinScorsese ZinaBethune,HarveyKeitel,AnneCo...  \n",
       "749  BarrySonnenfeld WillSmith,KevinKline,KennethBr...  \n",
       "750  MelStuart GeneWilder,JackAlbertson,PeterOstrum...  \n",
       "751  LeeTamahori IceCube,SamuelL.Jackson,WillemDafo...  \n",
       "752  SubhashGhai JackieShroff,HrithikRoshan,Kareena...  \n",
       "\n",
       "[753 rows x 7 columns]"
      ]
     },
     "execution_count": 10,
     "metadata": {},
     "output_type": "execute_result"
    }
   ],
   "source": [
    "df"
   ]
  },
  {
   "cell_type": "code",
   "execution_count": 11,
   "id": "aaf0934c",
   "metadata": {
    "execution": {
     "iopub.execute_input": "2024-04-13T05:03:11.663377Z",
     "iopub.status.busy": "2024-04-13T05:03:11.662977Z",
     "iopub.status.idle": "2024-04-13T05:03:11.675288Z",
     "shell.execute_reply": "2024-04-13T05:03:11.674383Z"
    },
    "papermill": {
     "duration": 0.026228,
     "end_time": "2024-04-13T05:03:11.677578",
     "exception": false,
     "start_time": "2024-04-13T05:03:11.651350",
     "status": "completed"
    },
    "tags": []
   },
   "outputs": [
    {
     "data": {
      "text/html": [
       "<div>\n",
       "<style scoped>\n",
       "    .dataframe tbody tr th:only-of-type {\n",
       "        vertical-align: middle;\n",
       "    }\n",
       "\n",
       "    .dataframe tbody tr th {\n",
       "        vertical-align: top;\n",
       "    }\n",
       "\n",
       "    .dataframe thead th {\n",
       "        text-align: right;\n",
       "    }\n",
       "</style>\n",
       "<table border=\"1\" class=\"dataframe\">\n",
       "  <thead>\n",
       "    <tr style=\"text-align: right;\">\n",
       "      <th></th>\n",
       "      <th>title</th>\n",
       "      <th>tags</th>\n",
       "    </tr>\n",
       "  </thead>\n",
       "  <tbody>\n",
       "    <tr>\n",
       "      <th>0</th>\n",
       "      <td>midnight mass</td>\n",
       "      <td>MikeFlanagan KateSiegel,ZachGilford,HamishLink...</td>\n",
       "    </tr>\n",
       "    <tr>\n",
       "      <th>1</th>\n",
       "      <td>jeans</td>\n",
       "      <td>S.Shankar Prashanth,AishwaryaRaiBachchan,SriLa...</td>\n",
       "    </tr>\n",
       "    <tr>\n",
       "      <th>2</th>\n",
       "      <td>grown ups</td>\n",
       "      <td>DennisDugan AdamSandler,KevinJames,ChrisRock,D...</td>\n",
       "    </tr>\n",
       "    <tr>\n",
       "      <th>3</th>\n",
       "      <td>jaws</td>\n",
       "      <td>StevenSpielberg RoyScheider,RobertShaw,Richard...</td>\n",
       "    </tr>\n",
       "    <tr>\n",
       "      <th>4</th>\n",
       "      <td>jaws 2</td>\n",
       "      <td>JeannotSzwarc RoyScheider,LorraineGary,MurrayH...</td>\n",
       "    </tr>\n",
       "  </tbody>\n",
       "</table>\n",
       "</div>"
      ],
      "text/plain": [
       "           title                                               tags\n",
       "0  midnight mass  MikeFlanagan KateSiegel,ZachGilford,HamishLink...\n",
       "1          jeans  S.Shankar Prashanth,AishwaryaRaiBachchan,SriLa...\n",
       "2      grown ups  DennisDugan AdamSandler,KevinJames,ChrisRock,D...\n",
       "3           jaws  StevenSpielberg RoyScheider,RobertShaw,Richard...\n",
       "4         jaws 2  JeannotSzwarc RoyScheider,LorraineGary,MurrayH..."
      ]
     },
     "execution_count": 11,
     "metadata": {},
     "output_type": "execute_result"
    }
   ],
   "source": [
    "#making a new dataframe\n",
    "new_df = df[['title','tags']]\n",
    "new_df.head()"
   ]
  },
  {
   "cell_type": "code",
   "execution_count": 12,
   "id": "a9de7946",
   "metadata": {
    "execution": {
     "iopub.execute_input": "2024-04-13T05:03:11.701459Z",
     "iopub.status.busy": "2024-04-13T05:03:11.700265Z",
     "iopub.status.idle": "2024-04-13T05:03:11.707713Z",
     "shell.execute_reply": "2024-04-13T05:03:11.706873Z"
    },
    "papermill": {
     "duration": 0.021348,
     "end_time": "2024-04-13T05:03:11.709917",
     "exception": false,
     "start_time": "2024-04-13T05:03:11.688569",
     "status": "completed"
    },
    "tags": []
   },
   "outputs": [],
   "source": [
    "#converting to lowercase\n",
    "new_df = new_df.copy()\n",
    "new_df['tags'] = new_df['tags'].apply(lambda x: x.lower())"
   ]
  },
  {
   "cell_type": "markdown",
   "id": "98da98eb",
   "metadata": {
    "papermill": {
     "duration": 0.010314,
     "end_time": "2024-04-13T05:03:11.730959",
     "exception": false,
     "start_time": "2024-04-13T05:03:11.720645",
     "status": "completed"
    },
    "tags": []
   },
   "source": [
    "### Stemming"
   ]
  },
  {
   "cell_type": "code",
   "execution_count": 13,
   "id": "ec0e118e",
   "metadata": {
    "execution": {
     "iopub.execute_input": "2024-04-13T05:03:11.754417Z",
     "iopub.status.busy": "2024-04-13T05:03:11.753258Z",
     "iopub.status.idle": "2024-04-13T05:03:13.780882Z",
     "shell.execute_reply": "2024-04-13T05:03:13.779634Z"
    },
    "papermill": {
     "duration": 2.042136,
     "end_time": "2024-04-13T05:03:13.783701",
     "exception": false,
     "start_time": "2024-04-13T05:03:11.741565",
     "status": "completed"
    },
    "tags": []
   },
   "outputs": [],
   "source": [
    "import nltk\n",
    "from nltk.stem.porter import PorterStemmer\n",
    "ps = PorterStemmer()"
   ]
  },
  {
   "cell_type": "code",
   "execution_count": 14,
   "id": "08fc55c1",
   "metadata": {
    "execution": {
     "iopub.execute_input": "2024-04-13T05:03:13.806985Z",
     "iopub.status.busy": "2024-04-13T05:03:13.806577Z",
     "iopub.status.idle": "2024-04-13T05:03:13.812480Z",
     "shell.execute_reply": "2024-04-13T05:03:13.811083Z"
    },
    "papermill": {
     "duration": 0.02054,
     "end_time": "2024-04-13T05:03:13.814942",
     "exception": false,
     "start_time": "2024-04-13T05:03:13.794402",
     "status": "completed"
    },
    "tags": []
   },
   "outputs": [],
   "source": [
    "def stem(text):\n",
    "    l = []\n",
    "    for i in text.split():           #split the word by a comma and list banaata hai\n",
    "        l.append(ps.stem(i))\n",
    "\n",
    "    return \" \".join(l)               # list se wapas ekk string separated by space"
   ]
  },
  {
   "cell_type": "code",
   "execution_count": 15,
   "id": "0d599cca",
   "metadata": {
    "execution": {
     "iopub.execute_input": "2024-04-13T05:03:13.838416Z",
     "iopub.status.busy": "2024-04-13T05:03:13.838000Z",
     "iopub.status.idle": "2024-04-13T05:03:14.534301Z",
     "shell.execute_reply": "2024-04-13T05:03:14.533196Z"
    },
    "papermill": {
     "duration": 0.711303,
     "end_time": "2024-04-13T05:03:14.536971",
     "exception": false,
     "start_time": "2024-04-13T05:03:13.825668",
     "status": "completed"
    },
    "tags": []
   },
   "outputs": [
    {
     "data": {
      "text/html": [
       "<div>\n",
       "<style scoped>\n",
       "    .dataframe tbody tr th:only-of-type {\n",
       "        vertical-align: middle;\n",
       "    }\n",
       "\n",
       "    .dataframe tbody tr th {\n",
       "        vertical-align: top;\n",
       "    }\n",
       "\n",
       "    .dataframe thead th {\n",
       "        text-align: right;\n",
       "    }\n",
       "</style>\n",
       "<table border=\"1\" class=\"dataframe\">\n",
       "  <thead>\n",
       "    <tr style=\"text-align: right;\">\n",
       "      <th></th>\n",
       "      <th>title</th>\n",
       "      <th>tags</th>\n",
       "    </tr>\n",
       "  </thead>\n",
       "  <tbody>\n",
       "    <tr>\n",
       "      <th>0</th>\n",
       "      <td>midnight mass</td>\n",
       "      <td>mikeflanagan katesiegel,zachgilford,hamishlink...</td>\n",
       "    </tr>\n",
       "    <tr>\n",
       "      <th>1</th>\n",
       "      <td>jeans</td>\n",
       "      <td>s.shankar prashanth,aishwaryaraibachchan,srila...</td>\n",
       "    </tr>\n",
       "    <tr>\n",
       "      <th>2</th>\n",
       "      <td>grown ups</td>\n",
       "      <td>dennisdugan adamsandler,kevinjames,chrisrock,d...</td>\n",
       "    </tr>\n",
       "    <tr>\n",
       "      <th>3</th>\n",
       "      <td>jaws</td>\n",
       "      <td>stevenspielberg royscheider,robertshaw,richard...</td>\n",
       "    </tr>\n",
       "    <tr>\n",
       "      <th>4</th>\n",
       "      <td>jaws 2</td>\n",
       "      <td>jeannotszwarc royscheider,lorrainegary,murrayh...</td>\n",
       "    </tr>\n",
       "    <tr>\n",
       "      <th>5</th>\n",
       "      <td>jaws 3</td>\n",
       "      <td>joealv dennisquaid,bessarmstrong,simonmaccorki...</td>\n",
       "    </tr>\n",
       "    <tr>\n",
       "      <th>6</th>\n",
       "      <td>jaws: the revenge</td>\n",
       "      <td>josephsarg lorrainegary,lanceguest,mariovanpee...</td>\n",
       "    </tr>\n",
       "    <tr>\n",
       "      <th>7</th>\n",
       "      <td>safe house</td>\n",
       "      <td>danielespinosa denzelwashington,ryanreynolds,v...</td>\n",
       "    </tr>\n",
       "    <tr>\n",
       "      <th>8</th>\n",
       "      <td>training day</td>\n",
       "      <td>antoinefuqua denzelwashington,ethanhawke,scott...</td>\n",
       "    </tr>\n",
       "    <tr>\n",
       "      <th>9</th>\n",
       "      <td>into the night</td>\n",
       "      <td>paulineetienne,laurentcapelluto,stefanocassett...</td>\n",
       "    </tr>\n",
       "    <tr>\n",
       "      <th>10</th>\n",
       "      <td>the circle</td>\n",
       "      <td>michellebuteau statu and strategi collid in th...</td>\n",
       "    </tr>\n",
       "    <tr>\n",
       "      <th>11</th>\n",
       "      <td>in the cut</td>\n",
       "      <td>janecampion megryan,markruffalo,jenniferjasonl...</td>\n",
       "    </tr>\n",
       "    <tr>\n",
       "      <th>12</th>\n",
       "      <td>a cinderella story</td>\n",
       "      <td>markrosman hilaryduff,chadmichaelmurray,jennif...</td>\n",
       "    </tr>\n",
       "    <tr>\n",
       "      <th>13</th>\n",
       "      <td>clear and present danger</td>\n",
       "      <td>phillipnoyc harrisonford,willemdafoe,annearche...</td>\n",
       "    </tr>\n",
       "    <tr>\n",
       "      <th>14</th>\n",
       "      <td>cliffhanger</td>\n",
       "      <td>rennyharlin sylvesterstallone,johnlithgow,mich...</td>\n",
       "    </tr>\n",
       "    <tr>\n",
       "      <th>15</th>\n",
       "      <td>cold mountain</td>\n",
       "      <td>anthonyminghella judelaw,nicolekidman,renéezel...</td>\n",
       "    </tr>\n",
       "    <tr>\n",
       "      <th>16</th>\n",
       "      <td>crocodile dundee in los angeles</td>\n",
       "      <td>simonwinc paulhogan,lindakozlowski,jereburns,j...</td>\n",
       "    </tr>\n",
       "    <tr>\n",
       "      <th>17</th>\n",
       "      <td>do the right thing</td>\n",
       "      <td>spikele dannyaiello,ossiedavis,rubydee,richard...</td>\n",
       "    </tr>\n",
       "    <tr>\n",
       "      <th>18</th>\n",
       "      <td>house party</td>\n",
       "      <td>reginaldhudlin christopherreid,christophermart...</td>\n",
       "    </tr>\n",
       "    <tr>\n",
       "      <th>19</th>\n",
       "      <td>house party 2</td>\n",
       "      <td>georgejackson,dougmchenri christopherreid,chri...</td>\n",
       "    </tr>\n",
       "    <tr>\n",
       "      <th>20</th>\n",
       "      <td>house party 3</td>\n",
       "      <td>ericmeza christopherreid,christophermartin,tis...</td>\n",
       "    </tr>\n",
       "    <tr>\n",
       "      <th>21</th>\n",
       "      <td>i got the hook up</td>\n",
       "      <td>michaelmartin masterp,anthonyjohnson,gretchenp...</td>\n",
       "    </tr>\n",
       "    <tr>\n",
       "      <th>22</th>\n",
       "      <td>in too deep</td>\n",
       "      <td>michaelrym omarepps,llcoolj,nialong,stanleytuc...</td>\n",
       "    </tr>\n",
       "    <tr>\n",
       "      <th>23</th>\n",
       "      <td>initial d</td>\n",
       "      <td>andrewlauwai-keung,alanmak jaychou,annesuzuki,...</td>\n",
       "    </tr>\n",
       "    <tr>\n",
       "      <th>24</th>\n",
       "      <td>labyrinth</td>\n",
       "      <td>jimhenson davidbowie,jenniferconnelly,frankoz,...</td>\n",
       "    </tr>\n",
       "    <tr>\n",
       "      <th>25</th>\n",
       "      <td>love don't cost a thing</td>\n",
       "      <td>troybyer nickcannon,christinamilian,kenanthomp...</td>\n",
       "    </tr>\n",
       "    <tr>\n",
       "      <th>26</th>\n",
       "      <td>mars attacks!</td>\n",
       "      <td>timburton jacknicholson,glennclose,annettebeni...</td>\n",
       "    </tr>\n",
       "    <tr>\n",
       "      <th>27</th>\n",
       "      <td>my boss's daughter</td>\n",
       "      <td>davidzuck ashtonkutcher,tarareid,jeffreytambor...</td>\n",
       "    </tr>\n",
       "    <tr>\n",
       "      <th>28</th>\n",
       "      <td>mystery men</td>\n",
       "      <td>kinkaush benstiller,hankazaria,williamh.macy,j...</td>\n",
       "    </tr>\n",
       "    <tr>\n",
       "      <th>29</th>\n",
       "      <td>once upon a time in america</td>\n",
       "      <td>sergioleon robertdeniro,jameswoods,elizabethmc...</td>\n",
       "    </tr>\n",
       "    <tr>\n",
       "      <th>30</th>\n",
       "      <td>osmosis jones</td>\n",
       "      <td>bobbyfarrelly,peterfarrelli chrisrock,laurence...</td>\n",
       "    </tr>\n",
       "    <tr>\n",
       "      <th>31</th>\n",
       "      <td>rhyme &amp; reason</td>\n",
       "      <td>peterspir too$hort,b-real,kurtisblow,dabrat,gr...</td>\n",
       "    </tr>\n",
       "    <tr>\n",
       "      <th>32</th>\n",
       "      <td>tears of the sun</td>\n",
       "      <td>antoinefuqua brucewillis,monicabellucci,coleha...</td>\n",
       "    </tr>\n",
       "    <tr>\n",
       "      <th>33</th>\n",
       "      <td>the blue lagoon</td>\n",
       "      <td>randalkleis brookeshields,christopheratkins,le...</td>\n",
       "    </tr>\n",
       "    <tr>\n",
       "      <th>34</th>\n",
       "      <td>the golden child</td>\n",
       "      <td>michaelritchi eddiemurphy,j.l.reate,charlesdan...</td>\n",
       "    </tr>\n",
       "    <tr>\n",
       "      <th>35</th>\n",
       "      <td>the guns of navarone</td>\n",
       "      <td>j.leethompson gregorypeck,davidniven,anthonyqu...</td>\n",
       "    </tr>\n",
       "    <tr>\n",
       "      <th>36</th>\n",
       "      <td>the nutty professor</td>\n",
       "      <td>tomshadyac eddiemurphy,jadapinkettsmith,jamesc...</td>\n",
       "    </tr>\n",
       "    <tr>\n",
       "      <th>37</th>\n",
       "      <td>the nutty professor ii: the klumps</td>\n",
       "      <td>peterseg eddiemurphy,janetjackson,larrymiller,...</td>\n",
       "    </tr>\n",
       "    <tr>\n",
       "      <th>38</th>\n",
       "      <td>in the line of fire</td>\n",
       "      <td>wolfgangpetersen clinteastwood,johnmalkovich,r...</td>\n",
       "    </tr>\n",
       "    <tr>\n",
       "      <th>39</th>\n",
       "      <td>wind river</td>\n",
       "      <td>taylorsheridan jeremyrenner,elizabetholsen,jon...</td>\n",
       "    </tr>\n",
       "    <tr>\n",
       "      <th>40</th>\n",
       "      <td>family reunion</td>\n",
       "      <td>lorettadevine,tiamowry-hardrict,anthonyalabi,t...</td>\n",
       "    </tr>\n",
       "    <tr>\n",
       "      <th>41</th>\n",
       "      <td>open your eyes</td>\n",
       "      <td>mariawawreniuk,ignacyliss,michałsikorski,wojci...</td>\n",
       "    </tr>\n",
       "    <tr>\n",
       "      <th>42</th>\n",
       "      <td>bombay</td>\n",
       "      <td>maniratnam arvindswamy,manishakoirala,nasser,r...</td>\n",
       "    </tr>\n",
       "    <tr>\n",
       "      <th>43</th>\n",
       "      <td>the piano</td>\n",
       "      <td>janecampion hollyhunter,harveykeitel,samneill,...</td>\n",
       "    </tr>\n",
       "    <tr>\n",
       "      <th>44</th>\n",
       "      <td>shaman king</td>\n",
       "      <td>yokohikasa,katsuyukikonishi,megumihayashibara,...</td>\n",
       "    </tr>\n",
       "    <tr>\n",
       "      <th>45</th>\n",
       "      <td>quartet</td>\n",
       "      <td>dustinhoffman maggiesmith,tomcourtenay,billyco...</td>\n",
       "    </tr>\n",
       "    <tr>\n",
       "      <th>46</th>\n",
       "      <td>the swarm</td>\n",
       "      <td>justphilippot sulianebrahim,sofiankhammes,mari...</td>\n",
       "    </tr>\n",
       "    <tr>\n",
       "      <th>47</th>\n",
       "      <td>heavy</td>\n",
       "      <td>jamesmangold pruitttaylorvince,shelleywinters,...</td>\n",
       "    </tr>\n",
       "    <tr>\n",
       "      <th>48</th>\n",
       "      <td>beethoven</td>\n",
       "      <td>brianlev charlesgrodin,bonniehunt,deanjones,ol...</td>\n",
       "    </tr>\n",
       "    <tr>\n",
       "      <th>49</th>\n",
       "      <td>beethoven's 2nd</td>\n",
       "      <td>roddaniel charlesgrodin,bonniehunt,nicholletom...</td>\n",
       "    </tr>\n",
       "  </tbody>\n",
       "</table>\n",
       "</div>"
      ],
      "text/plain": [
       "                                 title  \\\n",
       "0                        midnight mass   \n",
       "1                                jeans   \n",
       "2                            grown ups   \n",
       "3                                 jaws   \n",
       "4                               jaws 2   \n",
       "5                               jaws 3   \n",
       "6                    jaws: the revenge   \n",
       "7                           safe house   \n",
       "8                         training day   \n",
       "9                       into the night   \n",
       "10                          the circle   \n",
       "11                          in the cut   \n",
       "12                  a cinderella story   \n",
       "13            clear and present danger   \n",
       "14                         cliffhanger   \n",
       "15                       cold mountain   \n",
       "16     crocodile dundee in los angeles   \n",
       "17                  do the right thing   \n",
       "18                         house party   \n",
       "19                       house party 2   \n",
       "20                       house party 3   \n",
       "21                   i got the hook up   \n",
       "22                         in too deep   \n",
       "23                           initial d   \n",
       "24                           labyrinth   \n",
       "25             love don't cost a thing   \n",
       "26                       mars attacks!   \n",
       "27                  my boss's daughter   \n",
       "28                         mystery men   \n",
       "29         once upon a time in america   \n",
       "30                       osmosis jones   \n",
       "31                      rhyme & reason   \n",
       "32                    tears of the sun   \n",
       "33                     the blue lagoon   \n",
       "34                    the golden child   \n",
       "35                the guns of navarone   \n",
       "36                 the nutty professor   \n",
       "37  the nutty professor ii: the klumps   \n",
       "38                 in the line of fire   \n",
       "39                          wind river   \n",
       "40                      family reunion   \n",
       "41                      open your eyes   \n",
       "42                              bombay   \n",
       "43                           the piano   \n",
       "44                         shaman king   \n",
       "45                             quartet   \n",
       "46                           the swarm   \n",
       "47                               heavy   \n",
       "48                           beethoven   \n",
       "49                     beethoven's 2nd   \n",
       "\n",
       "                                                 tags  \n",
       "0   mikeflanagan katesiegel,zachgilford,hamishlink...  \n",
       "1   s.shankar prashanth,aishwaryaraibachchan,srila...  \n",
       "2   dennisdugan adamsandler,kevinjames,chrisrock,d...  \n",
       "3   stevenspielberg royscheider,robertshaw,richard...  \n",
       "4   jeannotszwarc royscheider,lorrainegary,murrayh...  \n",
       "5   joealv dennisquaid,bessarmstrong,simonmaccorki...  \n",
       "6   josephsarg lorrainegary,lanceguest,mariovanpee...  \n",
       "7   danielespinosa denzelwashington,ryanreynolds,v...  \n",
       "8   antoinefuqua denzelwashington,ethanhawke,scott...  \n",
       "9   paulineetienne,laurentcapelluto,stefanocassett...  \n",
       "10  michellebuteau statu and strategi collid in th...  \n",
       "11  janecampion megryan,markruffalo,jenniferjasonl...  \n",
       "12  markrosman hilaryduff,chadmichaelmurray,jennif...  \n",
       "13  phillipnoyc harrisonford,willemdafoe,annearche...  \n",
       "14  rennyharlin sylvesterstallone,johnlithgow,mich...  \n",
       "15  anthonyminghella judelaw,nicolekidman,renéezel...  \n",
       "16  simonwinc paulhogan,lindakozlowski,jereburns,j...  \n",
       "17  spikele dannyaiello,ossiedavis,rubydee,richard...  \n",
       "18  reginaldhudlin christopherreid,christophermart...  \n",
       "19  georgejackson,dougmchenri christopherreid,chri...  \n",
       "20  ericmeza christopherreid,christophermartin,tis...  \n",
       "21  michaelmartin masterp,anthonyjohnson,gretchenp...  \n",
       "22  michaelrym omarepps,llcoolj,nialong,stanleytuc...  \n",
       "23  andrewlauwai-keung,alanmak jaychou,annesuzuki,...  \n",
       "24  jimhenson davidbowie,jenniferconnelly,frankoz,...  \n",
       "25  troybyer nickcannon,christinamilian,kenanthomp...  \n",
       "26  timburton jacknicholson,glennclose,annettebeni...  \n",
       "27  davidzuck ashtonkutcher,tarareid,jeffreytambor...  \n",
       "28  kinkaush benstiller,hankazaria,williamh.macy,j...  \n",
       "29  sergioleon robertdeniro,jameswoods,elizabethmc...  \n",
       "30  bobbyfarrelly,peterfarrelli chrisrock,laurence...  \n",
       "31  peterspir too$hort,b-real,kurtisblow,dabrat,gr...  \n",
       "32  antoinefuqua brucewillis,monicabellucci,coleha...  \n",
       "33  randalkleis brookeshields,christopheratkins,le...  \n",
       "34  michaelritchi eddiemurphy,j.l.reate,charlesdan...  \n",
       "35  j.leethompson gregorypeck,davidniven,anthonyqu...  \n",
       "36  tomshadyac eddiemurphy,jadapinkettsmith,jamesc...  \n",
       "37  peterseg eddiemurphy,janetjackson,larrymiller,...  \n",
       "38  wolfgangpetersen clinteastwood,johnmalkovich,r...  \n",
       "39  taylorsheridan jeremyrenner,elizabetholsen,jon...  \n",
       "40  lorettadevine,tiamowry-hardrict,anthonyalabi,t...  \n",
       "41  mariawawreniuk,ignacyliss,michałsikorski,wojci...  \n",
       "42  maniratnam arvindswamy,manishakoirala,nasser,r...  \n",
       "43  janecampion hollyhunter,harveykeitel,samneill,...  \n",
       "44  yokohikasa,katsuyukikonishi,megumihayashibara,...  \n",
       "45  dustinhoffman maggiesmith,tomcourtenay,billyco...  \n",
       "46  justphilippot sulianebrahim,sofiankhammes,mari...  \n",
       "47  jamesmangold pruitttaylorvince,shelleywinters,...  \n",
       "48  brianlev charlesgrodin,bonniehunt,deanjones,ol...  \n",
       "49  roddaniel charlesgrodin,bonniehunt,nicholletom...  "
      ]
     },
     "execution_count": 15,
     "metadata": {},
     "output_type": "execute_result"
    }
   ],
   "source": [
    "new_df['tags'] = new_df['tags'].apply(stem)\n",
    "new_df.head(50)"
   ]
  },
  {
   "cell_type": "code",
   "execution_count": 16,
   "id": "9a1925bf",
   "metadata": {
    "execution": {
     "iopub.execute_input": "2024-04-13T05:03:14.562961Z",
     "iopub.status.busy": "2024-04-13T05:03:14.561927Z",
     "iopub.status.idle": "2024-04-13T05:03:14.569080Z",
     "shell.execute_reply": "2024-04-13T05:03:14.567954Z"
    },
    "papermill": {
     "duration": 0.022158,
     "end_time": "2024-04-13T05:03:14.571451",
     "exception": false,
     "start_time": "2024-04-13T05:03:14.549293",
     "status": "completed"
    },
    "tags": []
   },
   "outputs": [
    {
     "data": {
      "text/plain": [
       "(753, 2)"
      ]
     },
     "execution_count": 16,
     "metadata": {},
     "output_type": "execute_result"
    }
   ],
   "source": [
    "new_df.shape"
   ]
  },
  {
   "cell_type": "code",
   "execution_count": 17,
   "id": "1fe8d7e5",
   "metadata": {
    "execution": {
     "iopub.execute_input": "2024-04-13T05:03:14.596582Z",
     "iopub.status.busy": "2024-04-13T05:03:14.596183Z",
     "iopub.status.idle": "2024-04-13T05:03:14.608200Z",
     "shell.execute_reply": "2024-04-13T05:03:14.607151Z"
    },
    "papermill": {
     "duration": 0.027302,
     "end_time": "2024-04-13T05:03:14.610475",
     "exception": false,
     "start_time": "2024-04-13T05:03:14.583173",
     "status": "completed"
    },
    "tags": []
   },
   "outputs": [
    {
     "data": {
      "text/plain": [
       "20400"
      ]
     },
     "execution_count": 17,
     "metadata": {},
     "output_type": "execute_result"
    }
   ],
   "source": [
    "def count_words(row):\n",
    "    return len(row.split())\n",
    "\n",
    "# Apply the count_words function to each row of the 'tags' column\n",
    "new_df['word_count'] = df['tags'].apply(count_words)\n",
    "new_df['word_count'].mean()\n",
    "new_df['word_count'].sum() "
   ]
  },
  {
   "cell_type": "markdown",
   "id": "45e22556",
   "metadata": {
    "papermill": {
     "duration": 0.012703,
     "end_time": "2024-04-13T05:03:14.635285",
     "exception": false,
     "start_time": "2024-04-13T05:03:14.622582",
     "status": "completed"
    },
    "tags": []
   },
   "source": [
    "### Vectorization"
   ]
  },
  {
   "cell_type": "code",
   "execution_count": 18,
   "id": "c15def38",
   "metadata": {
    "execution": {
     "iopub.execute_input": "2024-04-13T05:03:14.660857Z",
     "iopub.status.busy": "2024-04-13T05:03:14.660464Z",
     "iopub.status.idle": "2024-04-13T05:03:14.763297Z",
     "shell.execute_reply": "2024-04-13T05:03:14.762016Z"
    },
    "papermill": {
     "duration": 0.118779,
     "end_time": "2024-04-13T05:03:14.766039",
     "exception": false,
     "start_time": "2024-04-13T05:03:14.647260",
     "status": "completed"
    },
    "tags": []
   },
   "outputs": [],
   "source": [
    "from sklearn.feature_extraction.text import CountVectorizer\n",
    "cv = CountVectorizer(max_features = 5000, stop_words = 'english')\n",
    "vectors = cv.fit_transform(new_df['tags']).toarray()"
   ]
  },
  {
   "cell_type": "markdown",
   "id": "db4f7259",
   "metadata": {
    "papermill": {
     "duration": 0.011491,
     "end_time": "2024-04-13T05:03:14.789173",
     "exception": false,
     "start_time": "2024-04-13T05:03:14.777682",
     "status": "completed"
    },
    "tags": []
   },
   "source": [
    "### Similarity"
   ]
  },
  {
   "cell_type": "code",
   "execution_count": 19,
   "id": "f9599aa9",
   "metadata": {
    "execution": {
     "iopub.execute_input": "2024-04-13T05:03:14.814837Z",
     "iopub.status.busy": "2024-04-13T05:03:14.813732Z",
     "iopub.status.idle": "2024-04-13T05:03:14.939297Z",
     "shell.execute_reply": "2024-04-13T05:03:14.938135Z"
    },
    "papermill": {
     "duration": 0.142155,
     "end_time": "2024-04-13T05:03:14.943021",
     "exception": false,
     "start_time": "2024-04-13T05:03:14.800866",
     "status": "completed"
    },
    "tags": []
   },
   "outputs": [
    {
     "data": {
      "text/plain": [
       "array([[1.        , 0.        , 0.        , ..., 0.        , 0.        ,\n",
       "        0.04347826],\n",
       "       [0.        , 1.        , 0.        , ..., 0.08695652, 0.        ,\n",
       "        0.13043478],\n",
       "       [0.        , 0.        , 1.        , ..., 0.04256283, 0.        ,\n",
       "        0.        ],\n",
       "       ...,\n",
       "       [0.        , 0.08695652, 0.04256283, ..., 1.        , 0.        ,\n",
       "        0.        ],\n",
       "       [0.        , 0.        , 0.        , ..., 0.        , 1.        ,\n",
       "        0.        ],\n",
       "       [0.04347826, 0.13043478, 0.        , ..., 0.        , 0.        ,\n",
       "        1.        ]])"
      ]
     },
     "execution_count": 19,
     "metadata": {},
     "output_type": "execute_result"
    }
   ],
   "source": [
    "from sklearn.metrics.pairwise import cosine_similarity\n",
    "similarity = cosine_similarity(vectors)\n",
    "similarity"
   ]
  },
  {
   "cell_type": "markdown",
   "id": "00633956",
   "metadata": {
    "papermill": {
     "duration": 0.024898,
     "end_time": "2024-04-13T05:03:14.993411",
     "exception": false,
     "start_time": "2024-04-13T05:03:14.968513",
     "status": "completed"
    },
    "tags": []
   },
   "source": [
    "### Recomendation Function"
   ]
  },
  {
   "cell_type": "code",
   "execution_count": 20,
   "id": "559725da",
   "metadata": {
    "execution": {
     "iopub.execute_input": "2024-04-13T05:03:15.045871Z",
     "iopub.status.busy": "2024-04-13T05:03:15.045156Z",
     "iopub.status.idle": "2024-04-13T05:03:15.054128Z",
     "shell.execute_reply": "2024-04-13T05:03:15.052942Z"
    },
    "papermill": {
     "duration": 0.038472,
     "end_time": "2024-04-13T05:03:15.056621",
     "exception": false,
     "start_time": "2024-04-13T05:03:15.018149",
     "status": "completed"
    },
    "tags": []
   },
   "outputs": [],
   "source": [
    "def recommend(movie):\n",
    "    movie_index = df[df['title'] == movie].index[0]             #index fetch karenge\n",
    "    similar_movies = sorted(list(enumerate(similarity[movie_index])), reverse = True, key = lambda x: x[1])[1:6]   #sabse kam distance wali movies\n",
    "    \n",
    "    for i in similar_movies:\n",
    "        print(new_df.iloc[i[0]].title)\n"
   ]
  },
  {
   "cell_type": "code",
   "execution_count": 21,
   "id": "72f24024",
   "metadata": {
    "execution": {
     "iopub.execute_input": "2024-04-13T05:03:15.083173Z",
     "iopub.status.busy": "2024-04-13T05:03:15.082128Z",
     "iopub.status.idle": "2024-04-13T05:03:15.091373Z",
     "shell.execute_reply": "2024-04-13T05:03:15.089687Z"
    },
    "papermill": {
     "duration": 0.025284,
     "end_time": "2024-04-13T05:03:15.094035",
     "exception": false,
     "start_time": "2024-04-13T05:03:15.068751",
     "status": "completed"
    },
    "tags": []
   },
   "outputs": [
    {
     "name": "stdout",
     "output_type": "stream",
     "text": [
      "good burger\n",
      "chitty chitty bang bang\n",
      "dennis the menace\n",
      "dr. seuss' the cat in the hat\n",
      "stuart little\n"
     ]
    }
   ],
   "source": [
    "recommend('a cinderella story')"
   ]
  },
  {
   "cell_type": "code",
   "execution_count": 22,
   "id": "2bc1662d",
   "metadata": {
    "execution": {
     "iopub.execute_input": "2024-04-13T05:03:15.119540Z",
     "iopub.status.busy": "2024-04-13T05:03:15.119109Z",
     "iopub.status.idle": "2024-04-13T05:03:15.126689Z",
     "shell.execute_reply": "2024-04-13T05:03:15.125773Z"
    },
    "papermill": {
     "duration": 0.022962,
     "end_time": "2024-04-13T05:03:15.128945",
     "exception": false,
     "start_time": "2024-04-13T05:03:15.105983",
     "status": "completed"
    },
    "tags": []
   },
   "outputs": [
    {
     "name": "stdout",
     "output_type": "stream",
     "text": [
      "jaws 2\n",
      "jaws: the revenge\n",
      "jaws 3\n",
      "deep blue sea\n",
      "platoon\n"
     ]
    }
   ],
   "source": [
    "recommend(\"jaws\")"
   ]
  }
 ],
 "metadata": {
  "kaggle": {
   "accelerator": "none",
   "dataSources": [
    {
     "datasetId": 1636,
     "sourceId": 792972,
     "sourceType": "datasetVersion"
    },
    {
     "datasetId": 4776858,
     "sourceId": 8091014,
     "sourceType": "datasetVersion"
    },
    {
     "datasetId": 4779613,
     "sourceId": 8095161,
     "sourceType": "datasetVersion"
    },
    {
     "datasetId": 4779739,
     "sourceId": 8095336,
     "sourceType": "datasetVersion"
    },
    {
     "datasetId": 4780457,
     "sourceId": 8096362,
     "sourceType": "datasetVersion"
    }
   ],
   "dockerImageVersionId": 30684,
   "isGpuEnabled": false,
   "isInternetEnabled": true,
   "language": "python",
   "sourceType": "notebook"
  },
  "kernelspec": {
   "display_name": "Python 3",
   "language": "python",
   "name": "python3"
  },
  "language_info": {
   "codemirror_mode": {
    "name": "ipython",
    "version": 3
   },
   "file_extension": ".py",
   "mimetype": "text/x-python",
   "name": "python",
   "nbconvert_exporter": "python",
   "pygments_lexer": "ipython3",
   "version": "3.10.13"
  },
  "papermill": {
   "default_parameters": {},
   "duration": 8.402433,
   "end_time": "2024-04-13T05:03:15.762742",
   "environment_variables": {},
   "exception": null,
   "input_path": "__notebook__.ipynb",
   "output_path": "__notebook__.ipynb",
   "parameters": {},
   "start_time": "2024-04-13T05:03:07.360309",
   "version": "2.5.0"
  }
 },
 "nbformat": 4,
 "nbformat_minor": 5
}
