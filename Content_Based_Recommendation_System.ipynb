{
  "metadata": {
    "kernelspec": {
      "language": "python",
      "display_name": "Python 3",
      "name": "python3"
    },
    "language_info": {
      "name": "python",
      "version": "3.10.13",
      "mimetype": "text/x-python",
      "codemirror_mode": {
        "name": "ipython",
        "version": 3
      },
      "pygments_lexer": "ipython3",
      "nbconvert_exporter": "python",
      "file_extension": ".py"
    },
    "kaggle": {
      "accelerator": "none",
      "dataSources": [
        {
          "sourceId": 792972,
          "sourceType": "datasetVersion",
          "datasetId": 1636
        },
        {
          "sourceId": 8091014,
          "sourceType": "datasetVersion",
          "datasetId": 4776858
        },
        {
          "sourceId": 8095161,
          "sourceType": "datasetVersion",
          "datasetId": 4779613
        },
        {
          "sourceId": 8095336,
          "sourceType": "datasetVersion",
          "datasetId": 4779739
        },
        {
          "sourceId": 8096362,
          "sourceType": "datasetVersion",
          "datasetId": 4780457
        }
      ],
      "dockerImageVersionId": 30684,
      "isInternetEnabled": true,
      "language": "python",
      "sourceType": "notebook",
      "isGpuEnabled": false
    },
    "colab": {
      "name": "Content Based Recommendation System",
      "provenance": []
    }
  },
  "nbformat_minor": 0,
  "nbformat": 4,
  "cells": [
    {
      "source": [
        "\n",
        "# IMPORTANT: RUN THIS CELL IN ORDER TO IMPORT YOUR KAGGLE DATA SOURCES\n",
        "# TO THE CORRECT LOCATION (/kaggle/input) IN YOUR NOTEBOOK,\n",
        "# THEN FEEL FREE TO DELETE THIS CELL.\n",
        "# NOTE: THIS NOTEBOOK ENVIRONMENT DIFFERS FROM KAGGLE'S PYTHON\n",
        "# ENVIRONMENT SO THERE MAY BE MISSING LIBRARIES USED BY YOUR\n",
        "# NOTEBOOK.\n",
        "\n",
        "import os\n",
        "import sys\n",
        "from tempfile import NamedTemporaryFile\n",
        "from urllib.request import urlopen\n",
        "from urllib.parse import unquote, urlparse\n",
        "from urllib.error import HTTPError\n",
        "from zipfile import ZipFile\n",
        "import tarfile\n",
        "import shutil\n",
        "\n",
        "CHUNK_SIZE = 40960\n",
        "DATA_SOURCE_MAPPING = 'netflix-prize-data:https%3A%2F%2Fstorage.googleapis.com%2Fkaggle-data-sets%2F1636%2F792972%2Fbundle%2Farchive.zip%3FX-Goog-Algorithm%3DGOOG4-RSA-SHA256%26X-Goog-Credential%3Dgcp-kaggle-com%2540kaggle-161607.iam.gserviceaccount.com%252F20240415%252Fauto%252Fstorage%252Fgoog4_request%26X-Goog-Date%3D20240415T071841Z%26X-Goog-Expires%3D259200%26X-Goog-SignedHeaders%3Dhost%26X-Goog-Signature%3D90c481b789b1fe43b208d5de340a70d3570660d39f4de14489c17e29affb60775460b9f1a9c8189c5034d18d4ac7e11a5a822cc1bcab53ea945f5d41288088ccbb10b5f1aaf0c32cb8cf5508d8282602a9117cbeccec3320e8dc9dd662c52e064770a1c604e9a20214156e521b6218e79af2fbf69e8d06f58de7e318f0b3bb0caf26daf69c2f5e0dbb86646900e31727a9cfd39ec4b046e6a5f1ca8b4d64945a96cd5686ea1a91435d210f7541ff06509ca3ca9e8577abd4fe398c201bb2c059664d66d8fab7a1d9b4dbbbba4ee77e4baff2f955bfc226884a9aeb95abc6a7cb3d9fe4105f7dc8f8e56fed883520e7fb9445f4a102dd8d32ac067388be6d92e3,merged:https%3A%2F%2Fstorage.googleapis.com%2Fkaggle-data-sets%2F4776858%2F8091014%2Fbundle%2Farchive.zip%3FX-Goog-Algorithm%3DGOOG4-RSA-SHA256%26X-Goog-Credential%3Dgcp-kaggle-com%2540kaggle-161607.iam.gserviceaccount.com%252F20240415%252Fauto%252Fstorage%252Fgoog4_request%26X-Goog-Date%3D20240415T071841Z%26X-Goog-Expires%3D259200%26X-Goog-SignedHeaders%3Dhost%26X-Goog-Signature%3D1674ad234fe455f72fccc1007e09ccc492d2fed419d4c12bff031b67a230533a6ba64572c3aaa4dbeeaf84dfbee45ebab47f5898494a18c24bd24fb30904e453e2f18a70092657c379a77a93fb1f7f91fe1c2938917d6e1150520e3446be7dd5eac861c5ff35579e1f24ea8a5ce6cf0d435439b753a560115625182740380ea62a1d23c82c741218f7afdcfbbc392e11f1457b4a37a896e91eb9814f9d610d758c6e9a9e78185036e40dba9487f3072e2612d69e4e8b7799bf07fe567b5e1b852127926a1fc521adf9f2b675c612bf7524ffd95f3be3c243bf5189792e3e8b4b87997d4f3a5f87e4ed5636d43a23add18b73d05ec1a1d3a5f72681bf933ee053,user-movie:https%3A%2F%2Fstorage.googleapis.com%2Fkaggle-data-sets%2F4779613%2F8095161%2Fbundle%2Farchive.zip%3FX-Goog-Algorithm%3DGOOG4-RSA-SHA256%26X-Goog-Credential%3Dgcp-kaggle-com%2540kaggle-161607.iam.gserviceaccount.com%252F20240415%252Fauto%252Fstorage%252Fgoog4_request%26X-Goog-Date%3D20240415T071841Z%26X-Goog-Expires%3D259200%26X-Goog-SignedHeaders%3Dhost%26X-Goog-Signature%3D56c1ffa9fcb51f6cd750db23672da59f06e9a406be376f951803225b71c1fef242c3f9531949bc5c062b056820ebfe3c83ee254d68be38b0d882608060fdd3ae3ca2f028747de1ced4d5b82df5066b00a9a997d329c4b8eb06d8e608e0d713222292d1ef5c6239c3f1ca1a18fd0d3ed2ff7577e524fad54771e1312f1133867714fd77b30207dcbacaa20994aec8d4e1ea8f635615fc028528cac75a96e57e1a9ad3ab75516d43571bfadd25ae8b26e661db6205da0f1730b7a9f4121c448724ee9bfc2adf260b098ba926e36d1947b7da8bfbd7dc9c31418d3ecef426906a8b21c49e2128987dfce9424e9566d0fd4a6c7992d2f62979a9f42d8013913ff6af,movie-title:https%3A%2F%2Fstorage.googleapis.com%2Fkaggle-data-sets%2F4779739%2F8095336%2Fbundle%2Farchive.zip%3FX-Goog-Algorithm%3DGOOG4-RSA-SHA256%26X-Goog-Credential%3Dgcp-kaggle-com%2540kaggle-161607.iam.gserviceaccount.com%252F20240415%252Fauto%252Fstorage%252Fgoog4_request%26X-Goog-Date%3D20240415T071841Z%26X-Goog-Expires%3D259200%26X-Goog-SignedHeaders%3Dhost%26X-Goog-Signature%3D9c2179f4fd2574f2a7d2e4304e935d5c1891493702fd6c323f1c43a2441593ec2e9dfaf4d704c8c5155ef84507e13261b49043ad70b19dc933535454b7f496ed92295e109189e2931a53b5f74cbfd1dddbcc7fc803319b9f2aba20fdf9790143e780ad8d02b86259692aacdee1fe76ef8264890cc1182687cf9bad37c37d58a96585f50ded37b5ee284d73671aaf38951b0d96134b786d4817a80d756ac77e71962cebca9e2ef5f225e8e8e238e3db9db3627c12a774b8b01bf2b83bc1d023d2f87be7147c426115e1c25404d68fc59e4265a7e7dc77429d9f390be5ca9b5c6390039dde019eaf2e3d28dd43733a3eb357f652e91666866fdff320dcc137a360,final-data:https%3A%2F%2Fstorage.googleapis.com%2Fkaggle-data-sets%2F4780457%2F8096362%2Fbundle%2Farchive.zip%3FX-Goog-Algorithm%3DGOOG4-RSA-SHA256%26X-Goog-Credential%3Dgcp-kaggle-com%2540kaggle-161607.iam.gserviceaccount.com%252F20240415%252Fauto%252Fstorage%252Fgoog4_request%26X-Goog-Date%3D20240415T071842Z%26X-Goog-Expires%3D259200%26X-Goog-SignedHeaders%3Dhost%26X-Goog-Signature%3D9c27e91c17e86f7f8428665db3dacd2f6908cf10026c9db74ad99ffc2780cdd41c1ebc5c748e7bae07e99df5983432c7a413c4212b4d349167672dd42ea86a5af12038b41ec0d4619aa772481043a1ca238fede95c805903a0dc5c30dcb5064d5bd3f288da069519dad60c29ab1f0a079cb1c67bb92414dc53ba5fda724e85cc1217fd4c3de0d09cfd6cfa8b013a0fb08d1202762cf5e30c6ad71d971f2f99132237c27bc54e540216eac1b3ff822455a0333675c8dcf63d65b312d2e099b98fe7b96df34f81ab2380f8679e0545699b38c85a7295138c97be0d40b67fffb4e254f026509c87f3c652960c16803633540a1d4d12d09c24aa974d287937cb7e85'\n",
        "\n",
        "KAGGLE_INPUT_PATH='/kaggle/input'\n",
        "KAGGLE_WORKING_PATH='/kaggle/working'\n",
        "KAGGLE_SYMLINK='kaggle'\n",
        "\n",
        "!umount /kaggle/input/ 2> /dev/null\n",
        "shutil.rmtree('/kaggle/input', ignore_errors=True)\n",
        "os.makedirs(KAGGLE_INPUT_PATH, 0o777, exist_ok=True)\n",
        "os.makedirs(KAGGLE_WORKING_PATH, 0o777, exist_ok=True)\n",
        "\n",
        "try:\n",
        "  os.symlink(KAGGLE_INPUT_PATH, os.path.join(\"..\", 'input'), target_is_directory=True)\n",
        "except FileExistsError:\n",
        "  pass\n",
        "try:\n",
        "  os.symlink(KAGGLE_WORKING_PATH, os.path.join(\"..\", 'working'), target_is_directory=True)\n",
        "except FileExistsError:\n",
        "  pass\n",
        "\n",
        "for data_source_mapping in DATA_SOURCE_MAPPING.split(','):\n",
        "    directory, download_url_encoded = data_source_mapping.split(':')\n",
        "    download_url = unquote(download_url_encoded)\n",
        "    filename = urlparse(download_url).path\n",
        "    destination_path = os.path.join(KAGGLE_INPUT_PATH, directory)\n",
        "    try:\n",
        "        with urlopen(download_url) as fileres, NamedTemporaryFile() as tfile:\n",
        "            total_length = fileres.headers['content-length']\n",
        "            print(f'Downloading {directory}, {total_length} bytes compressed')\n",
        "            dl = 0\n",
        "            data = fileres.read(CHUNK_SIZE)\n",
        "            while len(data) > 0:\n",
        "                dl += len(data)\n",
        "                tfile.write(data)\n",
        "                done = int(50 * dl / int(total_length))\n",
        "                sys.stdout.write(f\"\\r[{'=' * done}{' ' * (50-done)}] {dl} bytes downloaded\")\n",
        "                sys.stdout.flush()\n",
        "                data = fileres.read(CHUNK_SIZE)\n",
        "            if filename.endswith('.zip'):\n",
        "              with ZipFile(tfile) as zfile:\n",
        "                zfile.extractall(destination_path)\n",
        "            else:\n",
        "              with tarfile.open(tfile.name) as tarfile:\n",
        "                tarfile.extractall(destination_path)\n",
        "            print(f'\\nDownloaded and uncompressed: {directory}')\n",
        "    except HTTPError as e:\n",
        "        print(f'Failed to load (likely expired) {download_url} to path {destination_path}')\n",
        "        continue\n",
        "    except OSError as e:\n",
        "        print(f'Failed to load {download_url} to path {destination_path}')\n",
        "        continue\n",
        "\n",
        "print('Data source import complete.')\n"
      ],
      "metadata": {
        "id": "_lEOUCC-n2Gp"
      },
      "cell_type": "code",
      "outputs": [],
      "execution_count": null
    },
    {
      "cell_type": "code",
      "source": [
        "# This Python 3 environment comes with many helpful analytics libraries installed\n",
        "# It is defined by the kaggle/python Docker image: https://github.com/kaggle/docker-python\n",
        "# For example, here's several helpful packages to load\n",
        "\n",
        "import numpy as np # linear algebra\n",
        "import pandas as pd # data processing, CSV file I/O (e.g. pd.read_csv)\n",
        "\n",
        "# Input data files are available in the read-only \"../input/\" directory\n",
        "# For example, running this (by clicking run or pressing Shift+Enter) will list all files under the input directory\n",
        "\n",
        "import os\n",
        "for dirname, _, filenames in os.walk('/kaggle/input'):\n",
        "    for filename in filenames:\n",
        "        print(os.path.join(dirname, filename))\n",
        "\n",
        "\n",
        "# You can write up to 20GB to the current directory (/kaggle/working/) that gets preserved as output when you create a version using \"Save & Run All\"\n",
        "# You can also write temporary files to /kaggle/temp/, but they won't be saved outside of the current session"
      ],
      "metadata": {
        "_uuid": "8f2839f25d086af736a60e9eeb907d3b93b6e0e5",
        "_cell_guid": "b1076dfc-b9ad-4769-8c92-a6c4dae69d19",
        "execution": {
          "iopub.status.busy": "2024-04-15T06:27:17.342836Z",
          "iopub.execute_input": "2024-04-15T06:27:17.343196Z",
          "iopub.status.idle": "2024-04-15T06:27:18.375653Z",
          "shell.execute_reply.started": "2024-04-15T06:27:17.343164Z",
          "shell.execute_reply": "2024-04-15T06:27:18.374377Z"
        },
        "trusted": true,
        "id": "dYDrLweun2Gt",
        "outputId": "054d7406-d1fc-4ce4-d251-93bc74f4129a"
      },
      "execution_count": null,
      "outputs": [
        {
          "name": "stdout",
          "text": "/kaggle/input/netflix-prize-data/combined_data_3.txt\n/kaggle/input/netflix-prize-data/movie_titles.csv\n/kaggle/input/netflix-prize-data/combined_data_4.txt\n/kaggle/input/netflix-prize-data/combined_data_1.txt\n/kaggle/input/netflix-prize-data/README\n/kaggle/input/netflix-prize-data/probe.txt\n/kaggle/input/netflix-prize-data/combined_data_2.txt\n/kaggle/input/netflix-prize-data/qualifying.txt\n/kaggle/input/user-movie/user_movie.npz\n/kaggle/input/final-data/final_data (3).csv\n/kaggle/input/movie-title/movie_title.csv\n/kaggle/input/merged/merged_data.csv\n",
          "output_type": "stream"
        }
      ]
    },
    {
      "cell_type": "code",
      "source": [
        "df = pd.read_csv(\"/kaggle/input/merged/merged_data.csv\")"
      ],
      "metadata": {
        "execution": {
          "iopub.status.busy": "2024-04-15T06:27:46.488662Z",
          "iopub.execute_input": "2024-04-15T06:27:46.489755Z",
          "iopub.status.idle": "2024-04-15T06:27:46.504778Z",
          "shell.execute_reply.started": "2024-04-15T06:27:46.489721Z",
          "shell.execute_reply": "2024-04-15T06:27:46.503499Z"
        },
        "trusted": true,
        "id": "ebC_nk_Sn2Gv"
      },
      "execution_count": null,
      "outputs": []
    },
    {
      "cell_type": "code",
      "source": [
        "df.head()"
      ],
      "metadata": {
        "execution": {
          "iopub.status.busy": "2024-04-15T06:27:48.171152Z",
          "iopub.execute_input": "2024-04-15T06:27:48.171552Z",
          "iopub.status.idle": "2024-04-15T06:27:48.189536Z",
          "shell.execute_reply.started": "2024-04-15T06:27:48.17152Z",
          "shell.execute_reply": "2024-04-15T06:27:48.18825Z"
        },
        "trusted": true,
        "id": "DfZnw44pn2Gw",
        "outputId": "9c20506d-503e-4059-81a2-cd2ea5577e8e"
      },
      "execution_count": null,
      "outputs": [
        {
          "execution_count": 4,
          "output_type": "execute_result",
          "data": {
            "text/plain": "           title          director  \\\n0  midnight mass     Mike Flanagan   \n1          jeans        S. Shankar   \n2      grown ups      Dennis Dugan   \n3           jaws  Steven Spielberg   \n4         jaws 2    Jeannot Szwarc   \n\n                                                cast  \\\n0  Kate Siegel, Zach Gilford, Hamish Linklater, H...   \n1  Prashanth, Aishwarya Rai Bachchan, Sri Lakshmi...   \n2  Adam Sandler, Kevin James, Chris Rock, David S...   \n3  Roy Scheider, Robert Shaw, Richard Dreyfuss, L...   \n4  Roy Scheider, Lorraine Gary, Murray Hamilton, ...   \n\n                                         listed_in  \\\n0               TV Dramas, TV Horror, TV Mysteries   \n1  Comedies, International Movies, Romantic Movies   \n2                                         Comedies   \n3       Action & Adventure, Classic Movies, Dramas   \n4                 Dramas, Horror Movies, Thrillers   \n\n                                         description  MovieID  \n0  The arrival of a charismatic young priest brin...     3844  \n1  When the father of the man she loves insists t...      372  \n2  Mourning the loss of their beloved junior high...     8813  \n3  When an insatiable great white shark terrorize...      798  \n4  Four years after the last deadly shark attacks...    11171  ",
            "text/html": "<div>\n<style scoped>\n    .dataframe tbody tr th:only-of-type {\n        vertical-align: middle;\n    }\n\n    .dataframe tbody tr th {\n        vertical-align: top;\n    }\n\n    .dataframe thead th {\n        text-align: right;\n    }\n</style>\n<table border=\"1\" class=\"dataframe\">\n  <thead>\n    <tr style=\"text-align: right;\">\n      <th></th>\n      <th>title</th>\n      <th>director</th>\n      <th>cast</th>\n      <th>listed_in</th>\n      <th>description</th>\n      <th>MovieID</th>\n    </tr>\n  </thead>\n  <tbody>\n    <tr>\n      <th>0</th>\n      <td>midnight mass</td>\n      <td>Mike Flanagan</td>\n      <td>Kate Siegel, Zach Gilford, Hamish Linklater, H...</td>\n      <td>TV Dramas, TV Horror, TV Mysteries</td>\n      <td>The arrival of a charismatic young priest brin...</td>\n      <td>3844</td>\n    </tr>\n    <tr>\n      <th>1</th>\n      <td>jeans</td>\n      <td>S. Shankar</td>\n      <td>Prashanth, Aishwarya Rai Bachchan, Sri Lakshmi...</td>\n      <td>Comedies, International Movies, Romantic Movies</td>\n      <td>When the father of the man she loves insists t...</td>\n      <td>372</td>\n    </tr>\n    <tr>\n      <th>2</th>\n      <td>grown ups</td>\n      <td>Dennis Dugan</td>\n      <td>Adam Sandler, Kevin James, Chris Rock, David S...</td>\n      <td>Comedies</td>\n      <td>Mourning the loss of their beloved junior high...</td>\n      <td>8813</td>\n    </tr>\n    <tr>\n      <th>3</th>\n      <td>jaws</td>\n      <td>Steven Spielberg</td>\n      <td>Roy Scheider, Robert Shaw, Richard Dreyfuss, L...</td>\n      <td>Action &amp; Adventure, Classic Movies, Dramas</td>\n      <td>When an insatiable great white shark terrorize...</td>\n      <td>798</td>\n    </tr>\n    <tr>\n      <th>4</th>\n      <td>jaws 2</td>\n      <td>Jeannot Szwarc</td>\n      <td>Roy Scheider, Lorraine Gary, Murray Hamilton, ...</td>\n      <td>Dramas, Horror Movies, Thrillers</td>\n      <td>Four years after the last deadly shark attacks...</td>\n      <td>11171</td>\n    </tr>\n  </tbody>\n</table>\n</div>"
          },
          "metadata": {}
        }
      ]
    },
    {
      "cell_type": "code",
      "source": [
        "df.shape"
      ],
      "metadata": {
        "execution": {
          "iopub.status.busy": "2024-04-15T06:27:49.640743Z",
          "iopub.execute_input": "2024-04-15T06:27:49.641089Z",
          "iopub.status.idle": "2024-04-15T06:27:49.647705Z",
          "shell.execute_reply.started": "2024-04-15T06:27:49.641065Z",
          "shell.execute_reply": "2024-04-15T06:27:49.646569Z"
        },
        "trusted": true,
        "id": "bc8nS6aOn2Gw",
        "outputId": "4b1cdbb6-b50e-4185-de87-a146bd6678ec"
      },
      "execution_count": null,
      "outputs": [
        {
          "execution_count": 5,
          "output_type": "execute_result",
          "data": {
            "text/plain": "(753, 6)"
          },
          "metadata": {}
        }
      ]
    },
    {
      "cell_type": "code",
      "source": [
        "df.isnull().sum()"
      ],
      "metadata": {
        "execution": {
          "iopub.status.busy": "2024-04-15T06:27:52.346293Z",
          "iopub.execute_input": "2024-04-15T06:27:52.346702Z",
          "iopub.status.idle": "2024-04-15T06:27:52.356605Z",
          "shell.execute_reply.started": "2024-04-15T06:27:52.346672Z",
          "shell.execute_reply": "2024-04-15T06:27:52.355512Z"
        },
        "trusted": true,
        "id": "FJhP3wxHn2Gx",
        "outputId": "7fa849d9-ecbe-4e9d-b44b-0d38497919e3"
      },
      "execution_count": null,
      "outputs": [
        {
          "execution_count": 6,
          "output_type": "execute_result",
          "data": {
            "text/plain": "title            0\ndirector       127\ncast            21\nlisted_in        0\ndescription      0\nMovieID          0\ndtype: int64"
          },
          "metadata": {}
        }
      ]
    },
    {
      "cell_type": "markdown",
      "source": [
        "# *CONTENT BASED*"
      ],
      "metadata": {
        "id": "4a6hpMVpn2Gx"
      }
    },
    {
      "cell_type": "markdown",
      "source": [
        "## MERGED DATA"
      ],
      "metadata": {
        "id": "IcTq4kErn2G0"
      }
    },
    {
      "cell_type": "code",
      "source": [
        "df.shape"
      ],
      "metadata": {
        "execution": {
          "iopub.status.busy": "2024-04-15T06:27:56.359589Z",
          "iopub.execute_input": "2024-04-15T06:27:56.35998Z",
          "iopub.status.idle": "2024-04-15T06:27:56.36678Z",
          "shell.execute_reply.started": "2024-04-15T06:27:56.359951Z",
          "shell.execute_reply": "2024-04-15T06:27:56.36578Z"
        },
        "trusted": true,
        "id": "bxtkOXl5n2G1",
        "outputId": "5d6941f5-4acd-4e10-d665-3807f19d58cf"
      },
      "execution_count": null,
      "outputs": [
        {
          "execution_count": 7,
          "output_type": "execute_result",
          "data": {
            "text/plain": "(753, 6)"
          },
          "metadata": {}
        }
      ]
    },
    {
      "cell_type": "code",
      "source": [
        "#replacing nan values to an empty string as replace doesn't work on float values and \"NaN\" is a float value\n",
        "df['cast'] = df['cast'].apply(lambda x: '' if pd.isna(x) else x.replace(\" \", \"\"))\n",
        "df['listed_in'] = df['listed_in'].apply(lambda x: '' if pd.isna(x) else x.replace(\" \", \"\"))\n",
        "df['director'] = df['director'].apply(lambda x: '' if pd.isna(x) else x.replace(\" \", \"\"))"
      ],
      "metadata": {
        "execution": {
          "iopub.status.busy": "2024-04-15T06:27:57.533958Z",
          "iopub.execute_input": "2024-04-15T06:27:57.534294Z",
          "iopub.status.idle": "2024-04-15T06:27:57.545875Z",
          "shell.execute_reply.started": "2024-04-15T06:27:57.534269Z",
          "shell.execute_reply": "2024-04-15T06:27:57.544777Z"
        },
        "trusted": true,
        "id": "_sxsApgLn2G2"
      },
      "execution_count": null,
      "outputs": []
    },
    {
      "cell_type": "code",
      "source": [
        "#removing space\n",
        "df['listed_in'] = df['listed_in'].apply(lambda x: x.replace(\" \",\"\"))\n",
        "df['cast'] = df['cast'].apply(lambda x: x.replace(\" \",\"\"))"
      ],
      "metadata": {
        "execution": {
          "iopub.status.busy": "2024-04-15T06:27:59.019448Z",
          "iopub.execute_input": "2024-04-15T06:27:59.019866Z",
          "iopub.status.idle": "2024-04-15T06:27:59.027393Z",
          "shell.execute_reply.started": "2024-04-15T06:27:59.019834Z",
          "shell.execute_reply": "2024-04-15T06:27:59.026146Z"
        },
        "trusted": true,
        "id": "ICk2-VSmn2G2"
      },
      "execution_count": null,
      "outputs": []
    },
    {
      "cell_type": "code",
      "source": [
        "#making tags\n",
        "df['tags'] = df['director']+ \" \" + df['cast']  + \" \" +  df['description']  +  \" \" + df['listed_in']"
      ],
      "metadata": {
        "execution": {
          "iopub.status.busy": "2024-04-15T06:28:00.623441Z",
          "iopub.execute_input": "2024-04-15T06:28:00.623859Z",
          "iopub.status.idle": "2024-04-15T06:28:00.632953Z",
          "shell.execute_reply.started": "2024-04-15T06:28:00.623829Z",
          "shell.execute_reply": "2024-04-15T06:28:00.631842Z"
        },
        "trusted": true,
        "id": "5uyg-J5En2G3"
      },
      "execution_count": null,
      "outputs": []
    },
    {
      "cell_type": "code",
      "source": [
        "df"
      ],
      "metadata": {
        "execution": {
          "iopub.status.busy": "2024-04-15T06:28:01.770691Z",
          "iopub.execute_input": "2024-04-15T06:28:01.771087Z",
          "iopub.status.idle": "2024-04-15T06:28:01.791382Z",
          "shell.execute_reply.started": "2024-04-15T06:28:01.771054Z",
          "shell.execute_reply": "2024-04-15T06:28:01.79044Z"
        },
        "trusted": true,
        "id": "jMXXeDY2n2G3",
        "outputId": "84a77bca-0426-4240-b6b4-57aee2e398c5"
      },
      "execution_count": null,
      "outputs": [
        {
          "execution_count": 11,
          "output_type": "execute_result",
          "data": {
            "text/plain": "                                   title         director  \\\n0                          midnight mass     MikeFlanagan   \n1                                  jeans        S.Shankar   \n2                              grown ups      DennisDugan   \n3                                   jaws  StevenSpielberg   \n4                                 jaws 2    JeannotSzwarc   \n..                                   ...              ...   \n748      who's that knocking at my door?   MartinScorsese   \n749                       wild wild west  BarrySonnenfeld   \n750  willy wonka & the chocolate factory        MelStuart   \n751              xxx: state of the union      LeeTamahori   \n752                              yaadein      SubhashGhai   \n\n                                                  cast  \\\n0    KateSiegel,ZachGilford,HamishLinklater,HenryTh...   \n1     Prashanth,AishwaryaRaiBachchan,SriLakshmi,Nassar   \n2    AdamSandler,KevinJames,ChrisRock,DavidSpade,Ro...   \n3    RoyScheider,RobertShaw,RichardDreyfuss,Lorrain...   \n4    RoyScheider,LorraineGary,MurrayHamilton,Joseph...   \n..                                                 ...   \n748  ZinaBethune,HarveyKeitel,AnneCollette,LennardK...   \n749  WillSmith,KevinKline,KennethBranagh,SalmaHayek...   \n750  GeneWilder,JackAlbertson,PeterOstrum,RoyKinnea...   \n751  IceCube,SamuelL.Jackson,WillemDafoe,ScottSpeed...   \n752  JackieShroff,HrithikRoshan,KareenaKapoor,Amris...   \n\n                                        listed_in  \\\n0                   TVDramas,TVHorror,TVMysteries   \n1     Comedies,InternationalMovies,RomanticMovies   \n2                                        Comedies   \n3           Action&Adventure,ClassicMovies,Dramas   \n4                   Dramas,HorrorMovies,Thrillers   \n..                                            ...   \n748        ClassicMovies,Dramas,IndependentMovies   \n749      Action&Adventure,Comedies,Sci-Fi&Fantasy   \n750  Children&FamilyMovies,ClassicMovies,Comedies   \n751                              Action&Adventure   \n752     Dramas,InternationalMovies,RomanticMovies   \n\n                                           description  MovieID  \\\n0    The arrival of a charismatic young priest brin...     3844   \n1    When the father of the man she loves insists t...      372   \n2    Mourning the loss of their beloved junior high...     8813   \n3    When an insatiable great white shark terrorize...      798   \n4    Four years after the last deadly shark attacks...    11171   \n..                                                 ...      ...   \n748  A woman's revelation that she was once raped s...    12744   \n749  Armed with an ingenious arsenal, two top-notch...     4670   \n750  Zany Willy Wonka causes a stir when he announc...    14050   \n751  In this action-packed follow-up to XXX, U.S. i...     5730   \n752  Two young lovers set out to overcome the obsta...     5439   \n\n                                                  tags  \n0    MikeFlanagan KateSiegel,ZachGilford,HamishLink...  \n1    S.Shankar Prashanth,AishwaryaRaiBachchan,SriLa...  \n2    DennisDugan AdamSandler,KevinJames,ChrisRock,D...  \n3    StevenSpielberg RoyScheider,RobertShaw,Richard...  \n4    JeannotSzwarc RoyScheider,LorraineGary,MurrayH...  \n..                                                 ...  \n748  MartinScorsese ZinaBethune,HarveyKeitel,AnneCo...  \n749  BarrySonnenfeld WillSmith,KevinKline,KennethBr...  \n750  MelStuart GeneWilder,JackAlbertson,PeterOstrum...  \n751  LeeTamahori IceCube,SamuelL.Jackson,WillemDafo...  \n752  SubhashGhai JackieShroff,HrithikRoshan,Kareena...  \n\n[753 rows x 7 columns]",
            "text/html": "<div>\n<style scoped>\n    .dataframe tbody tr th:only-of-type {\n        vertical-align: middle;\n    }\n\n    .dataframe tbody tr th {\n        vertical-align: top;\n    }\n\n    .dataframe thead th {\n        text-align: right;\n    }\n</style>\n<table border=\"1\" class=\"dataframe\">\n  <thead>\n    <tr style=\"text-align: right;\">\n      <th></th>\n      <th>title</th>\n      <th>director</th>\n      <th>cast</th>\n      <th>listed_in</th>\n      <th>description</th>\n      <th>MovieID</th>\n      <th>tags</th>\n    </tr>\n  </thead>\n  <tbody>\n    <tr>\n      <th>0</th>\n      <td>midnight mass</td>\n      <td>MikeFlanagan</td>\n      <td>KateSiegel,ZachGilford,HamishLinklater,HenryTh...</td>\n      <td>TVDramas,TVHorror,TVMysteries</td>\n      <td>The arrival of a charismatic young priest brin...</td>\n      <td>3844</td>\n      <td>MikeFlanagan KateSiegel,ZachGilford,HamishLink...</td>\n    </tr>\n    <tr>\n      <th>1</th>\n      <td>jeans</td>\n      <td>S.Shankar</td>\n      <td>Prashanth,AishwaryaRaiBachchan,SriLakshmi,Nassar</td>\n      <td>Comedies,InternationalMovies,RomanticMovies</td>\n      <td>When the father of the man she loves insists t...</td>\n      <td>372</td>\n      <td>S.Shankar Prashanth,AishwaryaRaiBachchan,SriLa...</td>\n    </tr>\n    <tr>\n      <th>2</th>\n      <td>grown ups</td>\n      <td>DennisDugan</td>\n      <td>AdamSandler,KevinJames,ChrisRock,DavidSpade,Ro...</td>\n      <td>Comedies</td>\n      <td>Mourning the loss of their beloved junior high...</td>\n      <td>8813</td>\n      <td>DennisDugan AdamSandler,KevinJames,ChrisRock,D...</td>\n    </tr>\n    <tr>\n      <th>3</th>\n      <td>jaws</td>\n      <td>StevenSpielberg</td>\n      <td>RoyScheider,RobertShaw,RichardDreyfuss,Lorrain...</td>\n      <td>Action&amp;Adventure,ClassicMovies,Dramas</td>\n      <td>When an insatiable great white shark terrorize...</td>\n      <td>798</td>\n      <td>StevenSpielberg RoyScheider,RobertShaw,Richard...</td>\n    </tr>\n    <tr>\n      <th>4</th>\n      <td>jaws 2</td>\n      <td>JeannotSzwarc</td>\n      <td>RoyScheider,LorraineGary,MurrayHamilton,Joseph...</td>\n      <td>Dramas,HorrorMovies,Thrillers</td>\n      <td>Four years after the last deadly shark attacks...</td>\n      <td>11171</td>\n      <td>JeannotSzwarc RoyScheider,LorraineGary,MurrayH...</td>\n    </tr>\n    <tr>\n      <th>...</th>\n      <td>...</td>\n      <td>...</td>\n      <td>...</td>\n      <td>...</td>\n      <td>...</td>\n      <td>...</td>\n      <td>...</td>\n    </tr>\n    <tr>\n      <th>748</th>\n      <td>who's that knocking at my door?</td>\n      <td>MartinScorsese</td>\n      <td>ZinaBethune,HarveyKeitel,AnneCollette,LennardK...</td>\n      <td>ClassicMovies,Dramas,IndependentMovies</td>\n      <td>A woman's revelation that she was once raped s...</td>\n      <td>12744</td>\n      <td>MartinScorsese ZinaBethune,HarveyKeitel,AnneCo...</td>\n    </tr>\n    <tr>\n      <th>749</th>\n      <td>wild wild west</td>\n      <td>BarrySonnenfeld</td>\n      <td>WillSmith,KevinKline,KennethBranagh,SalmaHayek...</td>\n      <td>Action&amp;Adventure,Comedies,Sci-Fi&amp;Fantasy</td>\n      <td>Armed with an ingenious arsenal, two top-notch...</td>\n      <td>4670</td>\n      <td>BarrySonnenfeld WillSmith,KevinKline,KennethBr...</td>\n    </tr>\n    <tr>\n      <th>750</th>\n      <td>willy wonka &amp; the chocolate factory</td>\n      <td>MelStuart</td>\n      <td>GeneWilder,JackAlbertson,PeterOstrum,RoyKinnea...</td>\n      <td>Children&amp;FamilyMovies,ClassicMovies,Comedies</td>\n      <td>Zany Willy Wonka causes a stir when he announc...</td>\n      <td>14050</td>\n      <td>MelStuart GeneWilder,JackAlbertson,PeterOstrum...</td>\n    </tr>\n    <tr>\n      <th>751</th>\n      <td>xxx: state of the union</td>\n      <td>LeeTamahori</td>\n      <td>IceCube,SamuelL.Jackson,WillemDafoe,ScottSpeed...</td>\n      <td>Action&amp;Adventure</td>\n      <td>In this action-packed follow-up to XXX, U.S. i...</td>\n      <td>5730</td>\n      <td>LeeTamahori IceCube,SamuelL.Jackson,WillemDafo...</td>\n    </tr>\n    <tr>\n      <th>752</th>\n      <td>yaadein</td>\n      <td>SubhashGhai</td>\n      <td>JackieShroff,HrithikRoshan,KareenaKapoor,Amris...</td>\n      <td>Dramas,InternationalMovies,RomanticMovies</td>\n      <td>Two young lovers set out to overcome the obsta...</td>\n      <td>5439</td>\n      <td>SubhashGhai JackieShroff,HrithikRoshan,Kareena...</td>\n    </tr>\n  </tbody>\n</table>\n<p>753 rows × 7 columns</p>\n</div>"
          },
          "metadata": {}
        }
      ]
    },
    {
      "cell_type": "code",
      "source": [
        "#making a new dataframe\n",
        "new_df = df[['title','tags']]\n",
        "new_df.head()"
      ],
      "metadata": {
        "execution": {
          "iopub.status.busy": "2024-04-15T06:28:05.527778Z",
          "iopub.execute_input": "2024-04-15T06:28:05.528144Z",
          "iopub.status.idle": "2024-04-15T06:28:05.538512Z",
          "shell.execute_reply.started": "2024-04-15T06:28:05.528114Z",
          "shell.execute_reply": "2024-04-15T06:28:05.537465Z"
        },
        "trusted": true,
        "id": "7Ql_wrNtn2G4",
        "outputId": "44d4fee1-99c0-438a-f3f8-132f0e930218"
      },
      "execution_count": null,
      "outputs": [
        {
          "execution_count": 13,
          "output_type": "execute_result",
          "data": {
            "text/plain": "           title                                               tags\n0  midnight mass  MikeFlanagan KateSiegel,ZachGilford,HamishLink...\n1          jeans  S.Shankar Prashanth,AishwaryaRaiBachchan,SriLa...\n2      grown ups  DennisDugan AdamSandler,KevinJames,ChrisRock,D...\n3           jaws  StevenSpielberg RoyScheider,RobertShaw,Richard...\n4         jaws 2  JeannotSzwarc RoyScheider,LorraineGary,MurrayH...",
            "text/html": "<div>\n<style scoped>\n    .dataframe tbody tr th:only-of-type {\n        vertical-align: middle;\n    }\n\n    .dataframe tbody tr th {\n        vertical-align: top;\n    }\n\n    .dataframe thead th {\n        text-align: right;\n    }\n</style>\n<table border=\"1\" class=\"dataframe\">\n  <thead>\n    <tr style=\"text-align: right;\">\n      <th></th>\n      <th>title</th>\n      <th>tags</th>\n    </tr>\n  </thead>\n  <tbody>\n    <tr>\n      <th>0</th>\n      <td>midnight mass</td>\n      <td>MikeFlanagan KateSiegel,ZachGilford,HamishLink...</td>\n    </tr>\n    <tr>\n      <th>1</th>\n      <td>jeans</td>\n      <td>S.Shankar Prashanth,AishwaryaRaiBachchan,SriLa...</td>\n    </tr>\n    <tr>\n      <th>2</th>\n      <td>grown ups</td>\n      <td>DennisDugan AdamSandler,KevinJames,ChrisRock,D...</td>\n    </tr>\n    <tr>\n      <th>3</th>\n      <td>jaws</td>\n      <td>StevenSpielberg RoyScheider,RobertShaw,Richard...</td>\n    </tr>\n    <tr>\n      <th>4</th>\n      <td>jaws 2</td>\n      <td>JeannotSzwarc RoyScheider,LorraineGary,MurrayH...</td>\n    </tr>\n  </tbody>\n</table>\n</div>"
          },
          "metadata": {}
        }
      ]
    },
    {
      "cell_type": "code",
      "source": [
        "#converting to lowercase\n",
        "new_df = new_df.copy()\n",
        "new_df['tags'] = new_df['tags'].apply(lambda x: x.lower())"
      ],
      "metadata": {
        "execution": {
          "iopub.status.busy": "2024-04-13T05:01:14.860609Z",
          "iopub.execute_input": "2024-04-13T05:01:14.861935Z",
          "iopub.status.idle": "2024-04-13T05:01:14.870713Z",
          "shell.execute_reply.started": "2024-04-13T05:01:14.861899Z",
          "shell.execute_reply": "2024-04-13T05:01:14.869473Z"
        },
        "trusted": true,
        "id": "FJCbqLL5n2G4"
      },
      "execution_count": null,
      "outputs": []
    },
    {
      "cell_type": "markdown",
      "source": [
        "### Stemming"
      ],
      "metadata": {
        "id": "-R8zQXDFn2G4"
      }
    },
    {
      "cell_type": "code",
      "source": [
        "import nltk\n",
        "from nltk.stem.porter import PorterStemmer\n",
        "ps = PorterStemmer()"
      ],
      "metadata": {
        "execution": {
          "iopub.status.busy": "2024-04-15T06:28:07.743049Z",
          "iopub.execute_input": "2024-04-15T06:28:07.743404Z",
          "iopub.status.idle": "2024-04-15T06:28:09.572826Z",
          "shell.execute_reply.started": "2024-04-15T06:28:07.743378Z",
          "shell.execute_reply": "2024-04-15T06:28:09.571661Z"
        },
        "trusted": true,
        "id": "qGg2TZB8n2G4"
      },
      "execution_count": null,
      "outputs": []
    },
    {
      "cell_type": "code",
      "source": [
        "def stem(text):\n",
        "    l = []\n",
        "    for i in text.split():           #split the word by a comma and list banaata hai\n",
        "        l.append(ps.stem(i))\n",
        "\n",
        "    return \" \".join(l)               # list se wapas ekk string separated by space"
      ],
      "metadata": {
        "execution": {
          "iopub.status.busy": "2024-04-15T06:28:09.755004Z",
          "iopub.execute_input": "2024-04-15T06:28:09.756004Z",
          "iopub.status.idle": "2024-04-15T06:28:09.761803Z",
          "shell.execute_reply.started": "2024-04-15T06:28:09.755969Z",
          "shell.execute_reply": "2024-04-15T06:28:09.760547Z"
        },
        "trusted": true,
        "id": "Tkp6iRDcn2G5"
      },
      "execution_count": null,
      "outputs": []
    },
    {
      "cell_type": "code",
      "source": [
        "new_df['tags'] = new_df['tags'].apply(stem)\n",
        "new_df.head(50)"
      ],
      "metadata": {
        "execution": {
          "iopub.status.busy": "2024-04-15T06:28:11.447898Z",
          "iopub.execute_input": "2024-04-15T06:28:11.448338Z",
          "iopub.status.idle": "2024-04-15T06:28:11.92796Z",
          "shell.execute_reply.started": "2024-04-15T06:28:11.448303Z",
          "shell.execute_reply": "2024-04-15T06:28:11.926923Z"
        },
        "trusted": true,
        "id": "HUme7DW-n2G5",
        "outputId": "ef6e975b-ad94-4ca2-8d8c-3069a1c05264"
      },
      "execution_count": null,
      "outputs": [
        {
          "name": "stderr",
          "text": "/tmp/ipykernel_33/1650388339.py:1: SettingWithCopyWarning: \nA value is trying to be set on a copy of a slice from a DataFrame.\nTry using .loc[row_indexer,col_indexer] = value instead\n\nSee the caveats in the documentation: https://pandas.pydata.org/pandas-docs/stable/user_guide/indexing.html#returning-a-view-versus-a-copy\n  new_df['tags'] = new_df['tags'].apply(stem)\n",
          "output_type": "stream"
        },
        {
          "execution_count": 16,
          "output_type": "execute_result",
          "data": {
            "text/plain": "                                 title  \\\n0                        midnight mass   \n1                                jeans   \n2                            grown ups   \n3                                 jaws   \n4                               jaws 2   \n5                               jaws 3   \n6                    jaws: the revenge   \n7                           safe house   \n8                         training day   \n9                       into the night   \n10                          the circle   \n11                          in the cut   \n12                  a cinderella story   \n13            clear and present danger   \n14                         cliffhanger   \n15                       cold mountain   \n16     crocodile dundee in los angeles   \n17                  do the right thing   \n18                         house party   \n19                       house party 2   \n20                       house party 3   \n21                   i got the hook up   \n22                         in too deep   \n23                           initial d   \n24                           labyrinth   \n25             love don't cost a thing   \n26                       mars attacks!   \n27                  my boss's daughter   \n28                         mystery men   \n29         once upon a time in america   \n30                       osmosis jones   \n31                      rhyme & reason   \n32                    tears of the sun   \n33                     the blue lagoon   \n34                    the golden child   \n35                the guns of navarone   \n36                 the nutty professor   \n37  the nutty professor ii: the klumps   \n38                 in the line of fire   \n39                          wind river   \n40                      family reunion   \n41                      open your eyes   \n42                              bombay   \n43                           the piano   \n44                         shaman king   \n45                             quartet   \n46                           the swarm   \n47                               heavy   \n48                           beethoven   \n49                     beethoven's 2nd   \n\n                                                 tags  \n0   mikeflanagan katesiegel,zachgilford,hamishlink...  \n1   s.shankar prashanth,aishwaryaraibachchan,srila...  \n2   dennisdugan adamsandler,kevinjames,chrisrock,d...  \n3   stevenspielberg royscheider,robertshaw,richard...  \n4   jeannotszwarc royscheider,lorrainegary,murrayh...  \n5   joealv dennisquaid,bessarmstrong,simonmaccorki...  \n6   josephsarg lorrainegary,lanceguest,mariovanpee...  \n7   danielespinosa denzelwashington,ryanreynolds,v...  \n8   antoinefuqua denzelwashington,ethanhawke,scott...  \n9   paulineetienne,laurentcapelluto,stefanocassett...  \n10  michellebuteau statu and strategi collid in th...  \n11  janecampion megryan,markruffalo,jenniferjasonl...  \n12  markrosman hilaryduff,chadmichaelmurray,jennif...  \n13  phillipnoyc harrisonford,willemdafoe,annearche...  \n14  rennyharlin sylvesterstallone,johnlithgow,mich...  \n15  anthonyminghella judelaw,nicolekidman,renéezel...  \n16  simonwinc paulhogan,lindakozlowski,jereburns,j...  \n17  spikele dannyaiello,ossiedavis,rubydee,richard...  \n18  reginaldhudlin christopherreid,christophermart...  \n19  georgejackson,dougmchenri christopherreid,chri...  \n20  ericmeza christopherreid,christophermartin,tis...  \n21  michaelmartin masterp,anthonyjohnson,gretchenp...  \n22  michaelrym omarepps,llcoolj,nialong,stanleytuc...  \n23  andrewlauwai-keung,alanmak jaychou,annesuzuki,...  \n24  jimhenson davidbowie,jenniferconnelly,frankoz,...  \n25  troybyer nickcannon,christinamilian,kenanthomp...  \n26  timburton jacknicholson,glennclose,annettebeni...  \n27  davidzuck ashtonkutcher,tarareid,jeffreytambor...  \n28  kinkaush benstiller,hankazaria,williamh.macy,j...  \n29  sergioleon robertdeniro,jameswoods,elizabethmc...  \n30  bobbyfarrelly,peterfarrelli chrisrock,laurence...  \n31  peterspir too$hort,b-real,kurtisblow,dabrat,gr...  \n32  antoinefuqua brucewillis,monicabellucci,coleha...  \n33  randalkleis brookeshields,christopheratkins,le...  \n34  michaelritchi eddiemurphy,j.l.reate,charlesdan...  \n35  j.leethompson gregorypeck,davidniven,anthonyqu...  \n36  tomshadyac eddiemurphy,jadapinkettsmith,jamesc...  \n37  peterseg eddiemurphy,janetjackson,larrymiller,...  \n38  wolfgangpetersen clinteastwood,johnmalkovich,r...  \n39  taylorsheridan jeremyrenner,elizabetholsen,jon...  \n40  lorettadevine,tiamowry-hardrict,anthonyalabi,t...  \n41  mariawawreniuk,ignacyliss,michałsikorski,wojci...  \n42  maniratnam arvindswamy,manishakoirala,nasser,r...  \n43  janecampion hollyhunter,harveykeitel,samneill,...  \n44  yokohikasa,katsuyukikonishi,megumihayashibara,...  \n45  dustinhoffman maggiesmith,tomcourtenay,billyco...  \n46  justphilippot sulianebrahim,sofiankhammes,mari...  \n47  jamesmangold pruitttaylorvince,shelleywinters,...  \n48  brianlev charlesgrodin,bonniehunt,deanjones,ol...  \n49  roddaniel charlesgrodin,bonniehunt,nicholletom...  ",
            "text/html": "<div>\n<style scoped>\n    .dataframe tbody tr th:only-of-type {\n        vertical-align: middle;\n    }\n\n    .dataframe tbody tr th {\n        vertical-align: top;\n    }\n\n    .dataframe thead th {\n        text-align: right;\n    }\n</style>\n<table border=\"1\" class=\"dataframe\">\n  <thead>\n    <tr style=\"text-align: right;\">\n      <th></th>\n      <th>title</th>\n      <th>tags</th>\n    </tr>\n  </thead>\n  <tbody>\n    <tr>\n      <th>0</th>\n      <td>midnight mass</td>\n      <td>mikeflanagan katesiegel,zachgilford,hamishlink...</td>\n    </tr>\n    <tr>\n      <th>1</th>\n      <td>jeans</td>\n      <td>s.shankar prashanth,aishwaryaraibachchan,srila...</td>\n    </tr>\n    <tr>\n      <th>2</th>\n      <td>grown ups</td>\n      <td>dennisdugan adamsandler,kevinjames,chrisrock,d...</td>\n    </tr>\n    <tr>\n      <th>3</th>\n      <td>jaws</td>\n      <td>stevenspielberg royscheider,robertshaw,richard...</td>\n    </tr>\n    <tr>\n      <th>4</th>\n      <td>jaws 2</td>\n      <td>jeannotszwarc royscheider,lorrainegary,murrayh...</td>\n    </tr>\n    <tr>\n      <th>5</th>\n      <td>jaws 3</td>\n      <td>joealv dennisquaid,bessarmstrong,simonmaccorki...</td>\n    </tr>\n    <tr>\n      <th>6</th>\n      <td>jaws: the revenge</td>\n      <td>josephsarg lorrainegary,lanceguest,mariovanpee...</td>\n    </tr>\n    <tr>\n      <th>7</th>\n      <td>safe house</td>\n      <td>danielespinosa denzelwashington,ryanreynolds,v...</td>\n    </tr>\n    <tr>\n      <th>8</th>\n      <td>training day</td>\n      <td>antoinefuqua denzelwashington,ethanhawke,scott...</td>\n    </tr>\n    <tr>\n      <th>9</th>\n      <td>into the night</td>\n      <td>paulineetienne,laurentcapelluto,stefanocassett...</td>\n    </tr>\n    <tr>\n      <th>10</th>\n      <td>the circle</td>\n      <td>michellebuteau statu and strategi collid in th...</td>\n    </tr>\n    <tr>\n      <th>11</th>\n      <td>in the cut</td>\n      <td>janecampion megryan,markruffalo,jenniferjasonl...</td>\n    </tr>\n    <tr>\n      <th>12</th>\n      <td>a cinderella story</td>\n      <td>markrosman hilaryduff,chadmichaelmurray,jennif...</td>\n    </tr>\n    <tr>\n      <th>13</th>\n      <td>clear and present danger</td>\n      <td>phillipnoyc harrisonford,willemdafoe,annearche...</td>\n    </tr>\n    <tr>\n      <th>14</th>\n      <td>cliffhanger</td>\n      <td>rennyharlin sylvesterstallone,johnlithgow,mich...</td>\n    </tr>\n    <tr>\n      <th>15</th>\n      <td>cold mountain</td>\n      <td>anthonyminghella judelaw,nicolekidman,renéezel...</td>\n    </tr>\n    <tr>\n      <th>16</th>\n      <td>crocodile dundee in los angeles</td>\n      <td>simonwinc paulhogan,lindakozlowski,jereburns,j...</td>\n    </tr>\n    <tr>\n      <th>17</th>\n      <td>do the right thing</td>\n      <td>spikele dannyaiello,ossiedavis,rubydee,richard...</td>\n    </tr>\n    <tr>\n      <th>18</th>\n      <td>house party</td>\n      <td>reginaldhudlin christopherreid,christophermart...</td>\n    </tr>\n    <tr>\n      <th>19</th>\n      <td>house party 2</td>\n      <td>georgejackson,dougmchenri christopherreid,chri...</td>\n    </tr>\n    <tr>\n      <th>20</th>\n      <td>house party 3</td>\n      <td>ericmeza christopherreid,christophermartin,tis...</td>\n    </tr>\n    <tr>\n      <th>21</th>\n      <td>i got the hook up</td>\n      <td>michaelmartin masterp,anthonyjohnson,gretchenp...</td>\n    </tr>\n    <tr>\n      <th>22</th>\n      <td>in too deep</td>\n      <td>michaelrym omarepps,llcoolj,nialong,stanleytuc...</td>\n    </tr>\n    <tr>\n      <th>23</th>\n      <td>initial d</td>\n      <td>andrewlauwai-keung,alanmak jaychou,annesuzuki,...</td>\n    </tr>\n    <tr>\n      <th>24</th>\n      <td>labyrinth</td>\n      <td>jimhenson davidbowie,jenniferconnelly,frankoz,...</td>\n    </tr>\n    <tr>\n      <th>25</th>\n      <td>love don't cost a thing</td>\n      <td>troybyer nickcannon,christinamilian,kenanthomp...</td>\n    </tr>\n    <tr>\n      <th>26</th>\n      <td>mars attacks!</td>\n      <td>timburton jacknicholson,glennclose,annettebeni...</td>\n    </tr>\n    <tr>\n      <th>27</th>\n      <td>my boss's daughter</td>\n      <td>davidzuck ashtonkutcher,tarareid,jeffreytambor...</td>\n    </tr>\n    <tr>\n      <th>28</th>\n      <td>mystery men</td>\n      <td>kinkaush benstiller,hankazaria,williamh.macy,j...</td>\n    </tr>\n    <tr>\n      <th>29</th>\n      <td>once upon a time in america</td>\n      <td>sergioleon robertdeniro,jameswoods,elizabethmc...</td>\n    </tr>\n    <tr>\n      <th>30</th>\n      <td>osmosis jones</td>\n      <td>bobbyfarrelly,peterfarrelli chrisrock,laurence...</td>\n    </tr>\n    <tr>\n      <th>31</th>\n      <td>rhyme &amp; reason</td>\n      <td>peterspir too$hort,b-real,kurtisblow,dabrat,gr...</td>\n    </tr>\n    <tr>\n      <th>32</th>\n      <td>tears of the sun</td>\n      <td>antoinefuqua brucewillis,monicabellucci,coleha...</td>\n    </tr>\n    <tr>\n      <th>33</th>\n      <td>the blue lagoon</td>\n      <td>randalkleis brookeshields,christopheratkins,le...</td>\n    </tr>\n    <tr>\n      <th>34</th>\n      <td>the golden child</td>\n      <td>michaelritchi eddiemurphy,j.l.reate,charlesdan...</td>\n    </tr>\n    <tr>\n      <th>35</th>\n      <td>the guns of navarone</td>\n      <td>j.leethompson gregorypeck,davidniven,anthonyqu...</td>\n    </tr>\n    <tr>\n      <th>36</th>\n      <td>the nutty professor</td>\n      <td>tomshadyac eddiemurphy,jadapinkettsmith,jamesc...</td>\n    </tr>\n    <tr>\n      <th>37</th>\n      <td>the nutty professor ii: the klumps</td>\n      <td>peterseg eddiemurphy,janetjackson,larrymiller,...</td>\n    </tr>\n    <tr>\n      <th>38</th>\n      <td>in the line of fire</td>\n      <td>wolfgangpetersen clinteastwood,johnmalkovich,r...</td>\n    </tr>\n    <tr>\n      <th>39</th>\n      <td>wind river</td>\n      <td>taylorsheridan jeremyrenner,elizabetholsen,jon...</td>\n    </tr>\n    <tr>\n      <th>40</th>\n      <td>family reunion</td>\n      <td>lorettadevine,tiamowry-hardrict,anthonyalabi,t...</td>\n    </tr>\n    <tr>\n      <th>41</th>\n      <td>open your eyes</td>\n      <td>mariawawreniuk,ignacyliss,michałsikorski,wojci...</td>\n    </tr>\n    <tr>\n      <th>42</th>\n      <td>bombay</td>\n      <td>maniratnam arvindswamy,manishakoirala,nasser,r...</td>\n    </tr>\n    <tr>\n      <th>43</th>\n      <td>the piano</td>\n      <td>janecampion hollyhunter,harveykeitel,samneill,...</td>\n    </tr>\n    <tr>\n      <th>44</th>\n      <td>shaman king</td>\n      <td>yokohikasa,katsuyukikonishi,megumihayashibara,...</td>\n    </tr>\n    <tr>\n      <th>45</th>\n      <td>quartet</td>\n      <td>dustinhoffman maggiesmith,tomcourtenay,billyco...</td>\n    </tr>\n    <tr>\n      <th>46</th>\n      <td>the swarm</td>\n      <td>justphilippot sulianebrahim,sofiankhammes,mari...</td>\n    </tr>\n    <tr>\n      <th>47</th>\n      <td>heavy</td>\n      <td>jamesmangold pruitttaylorvince,shelleywinters,...</td>\n    </tr>\n    <tr>\n      <th>48</th>\n      <td>beethoven</td>\n      <td>brianlev charlesgrodin,bonniehunt,deanjones,ol...</td>\n    </tr>\n    <tr>\n      <th>49</th>\n      <td>beethoven's 2nd</td>\n      <td>roddaniel charlesgrodin,bonniehunt,nicholletom...</td>\n    </tr>\n  </tbody>\n</table>\n</div>"
          },
          "metadata": {}
        }
      ]
    },
    {
      "cell_type": "code",
      "source": [],
      "metadata": {
        "id": "pb5LxVPTn2G5"
      },
      "execution_count": null,
      "outputs": []
    },
    {
      "cell_type": "code",
      "source": [
        "new_df.shape"
      ],
      "metadata": {
        "execution": {
          "iopub.status.busy": "2024-04-15T06:28:16.570137Z",
          "iopub.execute_input": "2024-04-15T06:28:16.570574Z",
          "iopub.status.idle": "2024-04-15T06:28:16.577207Z",
          "shell.execute_reply.started": "2024-04-15T06:28:16.570546Z",
          "shell.execute_reply": "2024-04-15T06:28:16.576126Z"
        },
        "trusted": true,
        "id": "d3zIA2Ozn2G5",
        "outputId": "47b9c4ad-5555-4c53-c45d-784a0473811b"
      },
      "execution_count": null,
      "outputs": [
        {
          "execution_count": 17,
          "output_type": "execute_result",
          "data": {
            "text/plain": "(753, 2)"
          },
          "metadata": {}
        }
      ]
    },
    {
      "cell_type": "code",
      "source": [
        "def count_words(row):\n",
        "    return len(row.split())\n",
        "\n",
        "# Apply the count_words function to each row of the 'tags' column\n",
        "new_df['word_count'] = df['tags'].apply(count_words)\n",
        "new_df['word_count'].mean()\n",
        "new_df['word_count'].sum()"
      ],
      "metadata": {
        "execution": {
          "iopub.status.busy": "2024-04-15T06:28:17.766335Z",
          "iopub.execute_input": "2024-04-15T06:28:17.767172Z",
          "iopub.status.idle": "2024-04-15T06:28:17.778434Z",
          "shell.execute_reply.started": "2024-04-15T06:28:17.767136Z",
          "shell.execute_reply": "2024-04-15T06:28:17.777204Z"
        },
        "trusted": true,
        "id": "Whztr_v9n2G6",
        "outputId": "da155238-40df-487b-bacc-47401a291192"
      },
      "execution_count": null,
      "outputs": [
        {
          "name": "stderr",
          "text": "/tmp/ipykernel_33/2156165864.py:5: SettingWithCopyWarning: \nA value is trying to be set on a copy of a slice from a DataFrame.\nTry using .loc[row_indexer,col_indexer] = value instead\n\nSee the caveats in the documentation: https://pandas.pydata.org/pandas-docs/stable/user_guide/indexing.html#returning-a-view-versus-a-copy\n  new_df['word_count'] = df['tags'].apply(count_words)\n",
          "output_type": "stream"
        },
        {
          "execution_count": 18,
          "output_type": "execute_result",
          "data": {
            "text/plain": "20400"
          },
          "metadata": {}
        }
      ]
    },
    {
      "cell_type": "markdown",
      "source": [
        "### Vectorization"
      ],
      "metadata": {
        "id": "druKT8xin2G6"
      }
    },
    {
      "cell_type": "code",
      "source": [
        "from sklearn.feature_extraction.text import CountVectorizer\n",
        "cv = CountVectorizer(max_features = 5000, stop_words = 'english')\n",
        "vectors = cv.fit_transform(new_df['tags']).toarray()"
      ],
      "metadata": {
        "execution": {
          "iopub.status.busy": "2024-04-15T06:28:21.404107Z",
          "iopub.execute_input": "2024-04-15T06:28:21.404888Z",
          "iopub.status.idle": "2024-04-15T06:28:21.485605Z",
          "shell.execute_reply.started": "2024-04-15T06:28:21.404839Z",
          "shell.execute_reply": "2024-04-15T06:28:21.484398Z"
        },
        "trusted": true,
        "id": "A3PphAcOn2G7"
      },
      "execution_count": null,
      "outputs": []
    },
    {
      "cell_type": "markdown",
      "source": [
        "### Similarity"
      ],
      "metadata": {
        "id": "a3n2ND7An2G7"
      }
    },
    {
      "cell_type": "code",
      "source": [
        "from sklearn.metrics.pairwise import cosine_similarity\n",
        "similarity = cosine_similarity(vectors)\n",
        "similarity"
      ],
      "metadata": {
        "execution": {
          "iopub.status.busy": "2024-04-15T06:28:23.591277Z",
          "iopub.execute_input": "2024-04-15T06:28:23.591665Z",
          "iopub.status.idle": "2024-04-15T06:28:23.706771Z",
          "shell.execute_reply.started": "2024-04-15T06:28:23.591635Z",
          "shell.execute_reply": "2024-04-15T06:28:23.705561Z"
        },
        "trusted": true,
        "id": "VRP-HvZMn2G7",
        "outputId": "17ec7d2d-f4ef-404d-a09c-822521dabeac"
      },
      "execution_count": null,
      "outputs": [
        {
          "execution_count": 20,
          "output_type": "execute_result",
          "data": {
            "text/plain": "array([[1.        , 0.        , 0.        , ..., 0.        , 0.        ,\n        0.04347826],\n       [0.        , 1.        , 0.        , ..., 0.08695652, 0.        ,\n        0.13043478],\n       [0.        , 0.        , 1.        , ..., 0.04256283, 0.        ,\n        0.        ],\n       ...,\n       [0.        , 0.08695652, 0.04256283, ..., 1.        , 0.        ,\n        0.        ],\n       [0.        , 0.        , 0.        , ..., 0.        , 1.        ,\n        0.        ],\n       [0.04347826, 0.13043478, 0.        , ..., 0.        , 0.        ,\n        1.        ]])"
          },
          "metadata": {}
        }
      ]
    },
    {
      "cell_type": "markdown",
      "source": [
        "### Recomendation Function"
      ],
      "metadata": {
        "id": "cxUL2xgan2G8"
      }
    },
    {
      "cell_type": "code",
      "source": [
        "def recommend(movie):\n",
        "    movie_index = df[df['title'] == movie].index[0]             #index fetch karenge\n",
        "    similar_movies = sorted(list(enumerate(similarity[movie_index])), reverse = True, key = lambda x: x[1])[1:6]   #sabse kam distance wali movies\n",
        "\n",
        "    for i in similar_movies:\n",
        "        print(new_df.iloc[i[0]].title)\n"
      ],
      "metadata": {
        "execution": {
          "iopub.status.busy": "2024-04-15T06:28:25.694695Z",
          "iopub.execute_input": "2024-04-15T06:28:25.695053Z",
          "iopub.status.idle": "2024-04-15T06:28:25.701075Z",
          "shell.execute_reply.started": "2024-04-15T06:28:25.695028Z",
          "shell.execute_reply": "2024-04-15T06:28:25.699947Z"
        },
        "trusted": true,
        "id": "ZxIHWBn9n2G8"
      },
      "execution_count": null,
      "outputs": []
    },
    {
      "cell_type": "code",
      "source": [
        "recommend('a cinderella story')"
      ],
      "metadata": {
        "execution": {
          "iopub.status.busy": "2024-04-13T05:01:18.223208Z",
          "iopub.execute_input": "2024-04-13T05:01:18.224263Z",
          "iopub.status.idle": "2024-04-13T05:01:18.238363Z",
          "shell.execute_reply.started": "2024-04-13T05:01:18.224216Z",
          "shell.execute_reply": "2024-04-13T05:01:18.236837Z"
        },
        "trusted": true,
        "id": "jZDjbMLbn2G8",
        "outputId": "f79cd4e8-fe95-4150-cf9b-1780cbab75df"
      },
      "execution_count": null,
      "outputs": [
        {
          "name": "stdout",
          "text": "good burger\nchitty chitty bang bang\ndennis the menace\ndr. seuss' the cat in the hat\nstuart little\n",
          "output_type": "stream"
        }
      ]
    },
    {
      "cell_type": "code",
      "source": [
        "recommend(\"jaws\")"
      ],
      "metadata": {
        "execution": {
          "iopub.status.busy": "2024-04-15T06:28:28.339181Z",
          "iopub.execute_input": "2024-04-15T06:28:28.339573Z",
          "iopub.status.idle": "2024-04-15T06:28:28.346436Z",
          "shell.execute_reply.started": "2024-04-15T06:28:28.339542Z",
          "shell.execute_reply": "2024-04-15T06:28:28.345719Z"
        },
        "trusted": true,
        "id": "TAYVYIRgn2G8",
        "outputId": "37744e4b-498f-4bde-d227-866e37394df8"
      },
      "execution_count": null,
      "outputs": [
        {
          "name": "stdout",
          "text": "jaws 2\njaws: the revenge\njaws 3\ndeep blue sea\nplatoon\n",
          "output_type": "stream"
        }
      ]
    },
    {
      "cell_type": "code",
      "source": [
        "import pickle"
      ],
      "metadata": {
        "execution": {
          "iopub.status.busy": "2024-04-15T06:34:53.314411Z",
          "iopub.execute_input": "2024-04-15T06:34:53.314844Z",
          "iopub.status.idle": "2024-04-15T06:34:53.319678Z",
          "shell.execute_reply.started": "2024-04-15T06:34:53.314815Z",
          "shell.execute_reply": "2024-04-15T06:34:53.318552Z"
        },
        "trusted": true,
        "id": "uD90n4_5n2G8"
      },
      "execution_count": null,
      "outputs": []
    },
    {
      "cell_type": "code",
      "source": [
        "pickle.dump(new_df, open('movies.pkl', 'wb'))"
      ],
      "metadata": {
        "execution": {
          "iopub.status.busy": "2024-04-15T06:35:52.001431Z",
          "iopub.execute_input": "2024-04-15T06:35:52.001874Z",
          "iopub.status.idle": "2024-04-15T06:35:52.008534Z",
          "shell.execute_reply.started": "2024-04-15T06:35:52.001843Z",
          "shell.execute_reply": "2024-04-15T06:35:52.007356Z"
        },
        "trusted": true,
        "id": "1iEagAm8n2G9"
      },
      "execution_count": null,
      "outputs": []
    },
    {
      "cell_type": "code",
      "source": [
        "pickle.dump(new_df.to_dict(), open('movie_dict.pkl', 'wb'))"
      ],
      "metadata": {
        "execution": {
          "iopub.status.busy": "2024-04-15T07:05:00.908331Z",
          "iopub.execute_input": "2024-04-15T07:05:00.908741Z",
          "iopub.status.idle": "2024-04-15T07:05:00.917591Z",
          "shell.execute_reply.started": "2024-04-15T07:05:00.90871Z",
          "shell.execute_reply": "2024-04-15T07:05:00.916451Z"
        },
        "trusted": true,
        "id": "iCP_DIAJn2G9"
      },
      "execution_count": null,
      "outputs": []
    },
    {
      "cell_type": "code",
      "source": [
        "movies_dict = new_df.to_dict()"
      ],
      "metadata": {
        "execution": {
          "iopub.status.busy": "2024-04-15T07:12:30.328542Z",
          "iopub.execute_input": "2024-04-15T07:12:30.328953Z",
          "iopub.status.idle": "2024-04-15T07:12:30.33622Z",
          "shell.execute_reply.started": "2024-04-15T07:12:30.328922Z",
          "shell.execute_reply": "2024-04-15T07:12:30.334971Z"
        },
        "trusted": true,
        "id": "_Fw2RHfUn2G9"
      },
      "execution_count": null,
      "outputs": []
    },
    {
      "cell_type": "code",
      "source": [
        "movies = pd.DataFrame(movies_dict)"
      ],
      "metadata": {
        "execution": {
          "iopub.status.busy": "2024-04-15T07:12:56.955631Z",
          "iopub.execute_input": "2024-04-15T07:12:56.956033Z",
          "iopub.status.idle": "2024-04-15T07:12:56.963065Z",
          "shell.execute_reply.started": "2024-04-15T07:12:56.956006Z",
          "shell.execute_reply": "2024-04-15T07:12:56.961699Z"
        },
        "trusted": true,
        "id": "pG7dac1pn2G9"
      },
      "execution_count": null,
      "outputs": []
    },
    {
      "cell_type": "code",
      "source": [
        "movies['title'].values"
      ],
      "metadata": {
        "execution": {
          "iopub.status.busy": "2024-04-15T07:13:24.834025Z",
          "iopub.execute_input": "2024-04-15T07:13:24.834423Z",
          "iopub.status.idle": "2024-04-15T07:13:24.845598Z",
          "shell.execute_reply.started": "2024-04-15T07:13:24.834393Z",
          "shell.execute_reply": "2024-04-15T07:13:24.844205Z"
        },
        "trusted": true,
        "id": "8Rm8KdVMn2G-",
        "outputId": "b808e8a0-d757-4c2d-e39c-0b8a4ea7435f"
      },
      "execution_count": null,
      "outputs": [
        {
          "execution_count": 34,
          "output_type": "execute_result",
          "data": {
            "text/plain": "array(['midnight mass', 'jeans', 'grown ups', 'jaws', 'jaws 2', 'jaws 3',\n       'jaws: the revenge', 'safe house', 'training day',\n       'into the night', 'the circle', 'in the cut', 'a cinderella story',\n       'clear and present danger', 'cliffhanger', 'cold mountain',\n       'crocodile dundee in los angeles', 'do the right thing',\n       'house party', 'house party 2', 'house party 3',\n       'i got the hook up', 'in too deep', 'initial d', 'labyrinth',\n       \"love don't cost a thing\", 'mars attacks!', \"my boss's daughter\",\n       'mystery men', 'once upon a time in america', 'osmosis jones',\n       'rhyme & reason', 'tears of the sun', 'the blue lagoon',\n       'the golden child', 'the guns of navarone', 'the nutty professor',\n       'the nutty professor ii: the klumps', 'in the line of fire',\n       'wind river', 'family reunion', 'open your eyes', 'bombay',\n       'the piano', 'shaman king', 'quartet', 'the swarm', 'heavy',\n       'beethoven', \"beethoven's 2nd\", 'beowulf', 'catch me if you can',\n       'deep blue sea', \"ferris bueller's day off\", 'friday night lights',\n       'magnolia', 'major payne', 'my girl', 'my girl 2', 'seabiscuit',\n       'space cowboys', 'team america: world police',\n       'the last boy scout', 'the machinist', 'the net',\n       'the original kings of comedy', 'the vault', 'cousins',\n       'la ley de herodes', 'the beguiled', 'twilight',\n       \"cheech & chong's still smokin\", 'heist', 'cat people', 'larva',\n       'richie rich', 'scream', 'the worst witch', 'air force one',\n       'austin powers in goldmember',\n       'austin powers: international man of mystery',\n       'austin powers: the spy who shagged me', 'boogie nights',\n       \"charlie's angels\", 'congo', 'dennis the menace', 'midnight run',\n       \"mother's day\", 'not another teen movie', 'pet sematary 2',\n       'snow day', 'stuart little', 'the game', 'the karate kid',\n       'the karate kid part ii', 'the life of david gale',\n       'the long riders', 'the sum of all fears', 'underworld',\n       'what dreams may come', 'why do fools fall in love', 'ray',\n       'locked up', \"mobile suit gundam: char's counterattack\",\n       'the gift', 'metallica: some kind of monster', 'copenhagen',\n       'summertime', 'american outlaws', 'battlefield earth', 'bliss',\n       'cradle 2 the grave', 'domestic disturbance', 'fools rush in',\n       'i am sam', 'love jones', 'million dollar baby', 'starsky & hutch',\n       'streets of fire', 'swordfish', 'the four seasons',\n       'the interpreter', 'the mirror has two faces',\n       'the outlaw josey wales', 'word of honor', 'eden', 'sabotage',\n       'haunted', 'layer cake', 'oxygen', 'sleepless', 'monster',\n       'best of the best', 'mystic river', 'stargate',\n       'the sweetest thing', 'the whole nine yards', 'under siege',\n       'seven', 'the innocent', 'american me', 'lagaan', 'rush',\n       'sonic x', 'the master', 'zoot suit', 'house of cards', 'slasher',\n       'legally blonde', 'maximum risk', 'the pianist',\n       'universal soldier: the return', 'yu-gi-oh!', 'bad trip',\n       'croupier', 'the one', 'city of ghosts', 'rain man', 'no escape',\n       'red', 'awara paagal deewana', 'the crew', 'beverly hills ninja',\n       'heartland', 'blown away', 'gangaajal', 'hello brother',\n       'good burger', 'mystic pizza', \"what's eating gilbert grape\",\n       'dna', \"she's the one\", 'once upon a time', 'detention',\n       'quigley down under', 'the beast', 'white christmas', 'prom night',\n       'love & anarchy', 'mother', 'little monsters', 'barbarians',\n       'rebecca', 'fida', 'dil', 'the legend of bhagat singh',\n       'private lives', 'human nature', 'rize', 'bully',\n       'amandla! a revolution in four part harmony', 'mann',\n       'van helsing', 'time out', 'black', 'whipped', 'signs',\n       'raising victor vargas', 'family business', 'h', 'heidi',\n       'soldier', 'edge of seventeen', 'scarecrow', 'rita', 'fearless',\n       'sin city', 'redemption', 'animal crackers', 'cursed', 'sylvia',\n       'the protector', 'hook', 'michael', 'double jeopardy',\n       'total recall', 'ordinary people', 'destiny', 'disclosure',\n       'dark waters', 'the order', 'the chase', 'alone',\n       'cardcaptor sakura', 'supergirl', 'the end', 'boys over flowers',\n       'iris', 'andaz apna apna', 'the hollow', 'psycho',\n       'the heartbreak kid', 'what a girl wants', 'bittersweet',\n       'no direction home: bob dylan', 'after life', 'mischief',\n       'the main event', 'the trial', 'agneepath', 'brothers', 'dostana',\n       'duplicate', 'kaal', 'kabhi khushi kabhie gham',\n       'kuch kuch hota hai', 'saint seiya', 'the little vampire',\n       'uncorked', 'she', 'vampires', 'women of the night', 'freaks',\n       'uncovered', 'unstoppable', 'taxi driver', 'the visit', 'the body',\n       'hum aapke hain koun', 'the ranch', 'hop', 'eye for an eye',\n       'dracula', 'jimmy neutron: boy genius', 'fireworks',\n       'lost in space', \"jacob's ladder\", 'dil chahta hai', 'don',\n       'lakshya', \"what's new scooby-doo?\", 'the road to love',\n       'crazy people', 'the accidental spy', 'brother', 'house arrest',\n       'u turn', 'drive', 'the deep', 'daybreak', 'in my country',\n       'rugrats in paris: the movie', 'the rugrats movie', 'gotham',\n       'vagabond', 'evelyn', 'back to school', 'the son', 'point blank',\n       'anima', 'leila', 'tales of the city', 'easy', 'last breath',\n       'the outsiders', 'hazaaron khwaishein aisi', 'jhankaar beats',\n       'shabd', 'persona', 'the silence', 'quicksand', 'possessed',\n       'tango', 'the terminal', 'girl', 'disappearance', 'the hard way',\n       \"river's edge\", 'kevin james: sweat the small stuff', 'genius',\n       'chameli', 'safe', 'high society', 'solo', 'the last laugh',\n       'lionheart', 'monty python and the holy grail', 'the paper',\n       'sam kinison: breaking the rules',\n       'sam kinison: family entertainment hour', 'watership down',\n       'perfume', 'wolf', 'sabrina', 'target', 'malevolent',\n       \"monty python's flying circus\", \"monty python's life of brian\",\n       'khoobsurat', 'life', 'city of joy', 'sisters', 'the innocents',\n       'the package', 'fiza', 'highway', 'nothing to lose', 'white fang',\n       'chalte chalte', 'the staircase', 'inspector gadget', 'amateur',\n       'troy', 'loaded', 'main hoon na', 'metro', 'paheli',\n       'phir bhi dil hai hindustani', 'benji', 'collateral',\n       'the outsider', 'ravenous', 'dil se', 'swades', 'yuva',\n       'fullmetal alchemist',\n       \"jerry seinfeld: i'm telling you for the last time\", 'godzilla',\n       'the house next door', 'lovesick', 'monster island', 'the killer',\n       'together', 'laws of attraction', 'the babysitter', 'frequency',\n       'undefeated', 'naked', 'the saint', 'opening night', 'the in-laws',\n       'breakout', 'intersection', 'gypsy', 'the wishing tree', 'sahara',\n       'english babu desi mem', 'slam', 'the wedding party', 'elaan',\n       'skins', 'howards end', 'asoka', 'from dusk till dawn',\n       'richard pryor: live in concert', 'mercy', 'paranoid',\n       'love me or leave me', 'blind date', 'much ado about nothing',\n       'someone like you', 'conspiracy', \"i'll sleep when i'm dead\",\n       'behind enemy lines', 'hush', 'wet hot american summer',\n       'hard lessons', 'joseph: king of dreams', '187', '28 days',\n       '50 first dates', 'a bridge too far', 'a clockwork orange',\n       'a family affair', 'a night at the roxbury', 'a walk to remember',\n       'a wrinkle in time', 'about a boy', 'aftershock', 'aitraaz',\n       \"alice doesn't live here anymore\", 'alive and kicking',\n       'all dogs go to heaven', 'along came a spider',\n       'always a bridesmaid', 'amar akbar anthony', 'american beauty',\n       'american crime', 'american history x', 'american psycho',\n       'an american tail', 'an american tail: fievel goes west',\n       'an american tail: the mystery of the night monster', 'angel eyes',\n       'anger management', 'arthur', 'as good as it gets', 'backtrack',\n       'bad boys', 'bad boys ii', 'bad education', 'balto',\n       'balto 2: wolf quest', 'balto 3: wings of change', 'baseketball',\n       'basic instinct', 'bawarchi', 'beavis and butt-head do america',\n       \"bebe's kids\", 'benji: off the leash', 'bewafaa',\n       'beyond the clouds', 'big daddy', 'big fat liar', 'biggie & tupac',\n       'billy elliot', 'black hawk down', 'blaze', 'blow', 'blue streak',\n       'bonnie and clyde', 'boom', 'borderline', 'butterfield 8',\n       'cabin fever', 'calendar girls', \"can't hardly wait\", 'candyman',\n       'carrie', 'casino royale', 'cat on a hot tin roof', 'center stage',\n       \"charlie's angels: full throttle\", \"charlotte's web\",\n       'chasing amy', \"child's play\", 'chitty chitty bang bang',\n       'city of god', 'clash of the titans', 'cleopatra jones',\n       'coach carter', 'company', 'cool hand luke', 'crash', 'dad',\n       'daddy day care', \"dante's peak\", 'darna mana hai', 'deep water',\n       'detour', 'diary of a chambermaid', 'die another day',\n       'dil hai tumhaara', 'doctor zhivago', 'donnie brasco',\n       \"dr. seuss' the cat in the hat\", 'dragonheart',\n       'dragonheart: a new beginning',\n       'dumb and dumberer: when harry met lloyd', 'employee of the month',\n       'equilibrium', 'event horizon', 'evolution', 'executive decision',\n       'exit wounds', 'fallen', 'fear and loathing in las vegas',\n       'fiddler on the roof', 'final destination', 'final destination 2',\n       'for love or money', 'for the love of benji', 'forces of nature',\n       'four weddings and a funeral', 'free willy', 'friday the 13th',\n       'gangs of new york', 'george of the jungle 2', 'get shorty',\n       'ghayal', 'gigi', 'gol maal', 'goldeneye', 'good luck',\n       'gosford park', 'gothika', 'grand hotel', 'grass', 'grease',\n       'gunslinger girl', 'hairspray', 'hamara dil aapke paas hai',\n       'hamburger hill', 'hangman', 'hannibal', 'happy times', 'haven',\n       'head on', 'heartbreakers', 'hellboy', 'hera pheri', 'hero',\n       'hide and seek', 'hitch', 'how to be a player',\n       'how to make an american quilt', 'iceman',\n       'indiana jones and the last crusade',\n       'indiana jones and the temple of doom', 'insan', 'it takes two',\n       'jackpot', 'jay and silent bob strike back', 'jericho',\n       'jimi hendrix', 'judwaa', 'k-19: the widowmaker', 'kaalia',\n       'kate & leopold', 'khalnayak', 'kill bill: vol. 1',\n       'kill bill: vol. 2', 'killer klowns from outer space',\n       \"king's ransom\", 'kingpin', 'kiss the girls', 'kon-tiki',\n       'koshish', 'kung fu hustle', 'kurt & courtney', 'kya kehna',\n       'kyun! ho gaya na', 'la bamba', 'leapfrog: letter factory',\n       'lifeline', 'like water for chocolate', 'little men',\n       'little nicky', 'loco love', \"logan's run\", 'lolita', 'loving you',\n       'mad max', 'maine pyar kiya', 'mansfield park',\n       'martin lawrence live: runteldat', 'mean streets',\n       'melvin goes to dinner', 'men in black', 'men in black ii',\n       'miracle', 'mirror mirror', 'miss julie', 'mona lisa smile',\n       'money for nothing', 'money talks', 'monster-in-law', 'mr. deeds',\n       'mujhse shaadi karogi', 'mutiny on the bounty',\n       \"my sister's keeper\", 'national treasure', 'new york minute',\n       'night moves', 'now and then', \"ocean's eleven\", \"ocean's twelve\",\n       'once upon a time in the west', 'one night stand', 'paid in full',\n       'panic room', 'paris is burning', 'passenger 57', 'patriot games',\n       'philadelphia', 'platoon', 'popeye', 'powder',\n       'power rangers s.p.d.', 'primal fear', 'prince charming', 'pukar',\n       'pulp fiction', 'pyaar tune kya kiya', 'raging bull',\n       'raja hindustani', 'ram teri ganga maili', 'red dawn', 'refugee',\n       'revelations', 'revenge', 'robotech', 'rocky', 'rocky ii',\n       'rocky iii', 'rocky iv', 'rocky v', \"rosemary's baby\", 'rounders',\n       'rumble in the bronx', 'run', 'runaway bride',\n       'running out of time', 'rurouni kenshin', 's.w.a.t.', 'sangam',\n       'satte pe satta', 'scandal', 'scary movie', \"schindler's list\",\n       'school daze', 'scooby-doo on zombie island', 'scream 2',\n       'scream 3', 'searching for bobby fischer', 'season of the witch',\n       'shaka zulu', 'sherlock holmes', 'sleepover', 'sling blade',\n       'small soldiers', 'socha na tha', \"something's gotta give\",\n       'sour grapes', 'spartacus', 'spy kids',\n       'spy kids 2: the island of lost dreams', 'stranger than fiction',\n       'strictly ballroom', 'stripes', 'striptease', 'stuart little 2',\n       'superfly', 'superstar', 'swami',\n       'sweeney todd: the demon barber of fleet street', 'taal', 'taken',\n       'tarzan', 'tarzan 2', 'teenage mutant ninja turtles',\n       'teenage mutant ninja turtles ii: the secret of the ooze',\n       'teenage mutant ninja turtles: the movie',\n       'terminator 3: rise of the machines', 'the american president',\n       'the amityville horror', 'the andy griffith show', 'the apartment',\n       'the apostate', 'the art of war', 'the assignment', 'the bachelor',\n       'the battle of midway', 'the bridge', 'the calling', 'the cell',\n       'the chosen', 'the cincinnati kid', 'the code', 'the craft',\n       'the crow', 'the dark crystal', 'the duel', 'the evil dead',\n       'the fear', 'the first wives club', 'the flintstones',\n       'the flintstones in viva rock vegas', 'the foreigner',\n       'the forgotten', 'the gospel of john', 'the great train robbery',\n       'the healer', 'the indian in the cupboard', 'the jungle book',\n       'the little mermaid', 'the little prince', 'the longest yard',\n       'the mask of zorro', 'the matrix', 'the monster', 'the natural',\n       'the peacemaker', 'the pelican brief', 'the phantom of the opera',\n       'the pink panther', 'the player', 'the rainmaker', 'the ring',\n       'the river wild', 'the runner', 'the score', 'the show',\n       'the super', 'the talented mr. ripley',\n       'the texas chainsaw massacre', 'the time machine',\n       'the trigger effect', 'the tuxedo', 'the waterboy',\n       'the world is not enough', 'timeline',\n       'tom and jerry: the magic ring', 'tomorrow never dies',\n       'tortilla soup', 'trainspotting', 'transcendence', 'trash',\n       'tremors', 'tremors 2: aftershocks',\n       'tremors 3: back to perfection', 'tremors 4: the legend begins',\n       'trimurti', 'true grit', 'under the skin', 'waiting',\n       'what lies beneath', 'where the money is',\n       \"who's that knocking at my door?\", 'wild wild west',\n       'willy wonka & the chocolate factory', 'xxx: state of the union',\n       'yaadein'], dtype=object)"
          },
          "metadata": {}
        }
      ]
    }
  ]
}